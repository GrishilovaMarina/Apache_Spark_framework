{
  "nbformat": 4,
  "nbformat_minor": 0,
  "metadata": {
    "colab": {
      "provenance": []
    },
    "kernelspec": {
      "name": "python3",
      "display_name": "Python 3"
    },
    "language_info": {
      "name": "python"
    }
  },
  "cells": [
    {
      "cell_type": "code",
      "execution_count": 1,
      "metadata": {
        "colab": {
          "base_uri": "https://localhost:8080/"
        },
        "id": "9fXEFtbKDSn3",
        "outputId": "d6386085-98b1-4af6-c499-32d93b27820c"
      },
      "outputs": [
        {
          "output_type": "stream",
          "name": "stdout",
          "text": [
            "Looking in indexes: https://pypi.org/simple, https://us-python.pkg.dev/colab-wheels/public/simple/\n",
            "Collecting pyspark\n",
            "  Downloading pyspark-3.4.0.tar.gz (310.8 MB)\n",
            "\u001b[2K     \u001b[90m━━━━━━━━━━━━━━━━━━━━━━━━━━━━━━━━━━━━━━━\u001b[0m \u001b[32m310.8/310.8 MB\u001b[0m \u001b[31m2.9 MB/s\u001b[0m eta \u001b[36m0:00:00\u001b[0m\n",
            "\u001b[?25h  Preparing metadata (setup.py) ... \u001b[?25l\u001b[?25hdone\n",
            "Requirement already satisfied: py4j==0.10.9.7 in /usr/local/lib/python3.10/dist-packages (from pyspark) (0.10.9.7)\n",
            "Building wheels for collected packages: pyspark\n",
            "  Building wheel for pyspark (setup.py) ... \u001b[?25l\u001b[?25hdone\n",
            "  Created wheel for pyspark: filename=pyspark-3.4.0-py2.py3-none-any.whl size=311317130 sha256=d6f018e89a203e48b5a1e761b7e58f5382a6d6e607299126b3a090b723f2f7c3\n",
            "  Stored in directory: /root/.cache/pip/wheels/7b/1b/4b/3363a1d04368e7ff0d408e57ff57966fcdf00583774e761327\n",
            "Successfully built pyspark\n",
            "Installing collected packages: pyspark\n",
            "Successfully installed pyspark-3.4.0\n"
          ]
        }
      ],
      "source": [
        "!pip install pyspark"
      ]
    },
    {
      "cell_type": "code",
      "source": [
        "from pyspark.sql import SparkSession\n",
        "import pyspark.sql.functions as F\n",
        "\n",
        "\n",
        "spark = SparkSession.builder\\\n",
        "        .master('local[4]')\\\n",
        "        .appName('Lesson_2')\\\n",
        "        .config('spark.ui.port', '4050')\\\n",
        "        .config('spark.executor.instances', 2)\\\n",
        "        .config('spark.executor.memory', '5g')\\\n",
        "        .config('spark.executor.cores', 2)\\\n",
        "        .getOrCreate()\n",
        "\n",
        "sc = spark.sparkContext"
      ],
      "metadata": {
        "id": "QgLHS9B2Dq7Y"
      },
      "execution_count": 2,
      "outputs": []
    },
    {
      "cell_type": "markdown",
      "source": [
        "### Прочитайте содержимое каждого файла в датафрейм и выведите первые несколько строк\n",
        "### Применив cast к колонке можно изменить тип данных (F.col().cast(IntegerType()).alias())\n",
        "### Приведите все данные к правильному типу, либо считайте сразу верно"
      ],
      "metadata": {
        "id": "_Ecj1ng_D3QG"
      }
    },
    {
      "cell_type": "code",
      "source": [
        "train = spark.read.csv('train.csv', header=True)\n",
        "test = spark.read.csv('test.csv', header=True)"
      ],
      "metadata": {
        "id": "bz7Gf3djDs0w"
      },
      "execution_count": 3,
      "outputs": []
    },
    {
      "cell_type": "code",
      "source": [
        "train.show(3), test.show(3)"
      ],
      "metadata": {
        "colab": {
          "base_uri": "https://localhost:8080/"
        },
        "id": "d8Zpec7tEHkg",
        "outputId": "b3d2aab2-7873-4a5c-ddc0-569f82f79b4c"
      },
      "execution_count": 4,
      "outputs": [
        {
          "output_type": "stream",
          "name": "stdout",
          "text": [
            "+-------------+----+-----------+--------+---+------+----------+-----+---------+-------+---+---------+--------+----+----+----+---------+-------+------------+----+-----------+\n",
            "|battery_power|blue|clock_speed|dual_sim| fc|four_g|int_memory|m_dep|mobile_wt|n_cores| pc|px_height|px_width| ram|sc_h|sc_w|talk_time|three_g|touch_screen|wifi|price_range|\n",
            "+-------------+----+-----------+--------+---+------+----------+-----+---------+-------+---+---------+--------+----+----+----+---------+-------+------------+----+-----------+\n",
            "|          842|   0|        2.2|       0|  1|     0|         7|  0.6|      188|      2|  2|       20|     756|2549|   9|   7|       19|      0|           0|   1|          1|\n",
            "|         1021|   1|        0.5|       1|  0|     1|        53|  0.7|      136|      3|  6|      905|    1988|2631|  17|   3|        7|      1|           1|   0|          2|\n",
            "|          563|   1|        0.5|       1|  2|     1|        41|  0.9|      145|      5|  6|     1263|    1716|2603|  11|   2|        9|      1|           1|   0|          2|\n",
            "+-------------+----+-----------+--------+---+------+----------+-----+---------+-------+---+---------+--------+----+----+----+---------+-------+------------+----+-----------+\n",
            "only showing top 3 rows\n",
            "\n",
            "+---+-------------+----+-----------+--------+---+------+----------+-----+---------+-------+---+---------+--------+----+----+----+---------+-------+------------+----+\n",
            "| id|battery_power|blue|clock_speed|dual_sim| fc|four_g|int_memory|m_dep|mobile_wt|n_cores| pc|px_height|px_width| ram|sc_h|sc_w|talk_time|three_g|touch_screen|wifi|\n",
            "+---+-------------+----+-----------+--------+---+------+----------+-----+---------+-------+---+---------+--------+----+----+----+---------+-------+------------+----+\n",
            "|  1|         1043|   1|        1.8|       1| 14|     0|         5|  0.1|      193|      3| 16|      226|    1412|3476|  12|   7|        2|      0|           1|   0|\n",
            "|  2|          841|   1|        0.5|       1|  4|     1|        61|  0.8|      191|      5| 12|      746|     857|3895|   6|   0|        7|      1|           0|   0|\n",
            "|  3|         1807|   1|        2.8|       0|  1|     0|        27|  0.9|      186|      3|  4|     1270|    1366|2396|  17|  10|       10|      0|           1|   1|\n",
            "+---+-------------+----+-----------+--------+---+------+----------+-----+---------+-------+---+---------+--------+----+----+----+---------+-------+------------+----+\n",
            "only showing top 3 rows\n",
            "\n"
          ]
        },
        {
          "output_type": "execute_result",
          "data": {
            "text/plain": [
              "(None, None)"
            ]
          },
          "metadata": {},
          "execution_count": 4
        }
      ]
    },
    {
      "cell_type": "code",
      "source": [
        "train.printSchema(), test.printSchema()"
      ],
      "metadata": {
        "colab": {
          "base_uri": "https://localhost:8080/"
        },
        "id": "konYqj_jEbTa",
        "outputId": "a4a7aec5-67fd-41fa-effc-2c158db86191"
      },
      "execution_count": 5,
      "outputs": [
        {
          "output_type": "stream",
          "name": "stdout",
          "text": [
            "root\n",
            " |-- battery_power: string (nullable = true)\n",
            " |-- blue: string (nullable = true)\n",
            " |-- clock_speed: string (nullable = true)\n",
            " |-- dual_sim: string (nullable = true)\n",
            " |-- fc: string (nullable = true)\n",
            " |-- four_g: string (nullable = true)\n",
            " |-- int_memory: string (nullable = true)\n",
            " |-- m_dep: string (nullable = true)\n",
            " |-- mobile_wt: string (nullable = true)\n",
            " |-- n_cores: string (nullable = true)\n",
            " |-- pc: string (nullable = true)\n",
            " |-- px_height: string (nullable = true)\n",
            " |-- px_width: string (nullable = true)\n",
            " |-- ram: string (nullable = true)\n",
            " |-- sc_h: string (nullable = true)\n",
            " |-- sc_w: string (nullable = true)\n",
            " |-- talk_time: string (nullable = true)\n",
            " |-- three_g: string (nullable = true)\n",
            " |-- touch_screen: string (nullable = true)\n",
            " |-- wifi: string (nullable = true)\n",
            " |-- price_range: string (nullable = true)\n",
            "\n",
            "root\n",
            " |-- id: string (nullable = true)\n",
            " |-- battery_power: string (nullable = true)\n",
            " |-- blue: string (nullable = true)\n",
            " |-- clock_speed: string (nullable = true)\n",
            " |-- dual_sim: string (nullable = true)\n",
            " |-- fc: string (nullable = true)\n",
            " |-- four_g: string (nullable = true)\n",
            " |-- int_memory: string (nullable = true)\n",
            " |-- m_dep: string (nullable = true)\n",
            " |-- mobile_wt: string (nullable = true)\n",
            " |-- n_cores: string (nullable = true)\n",
            " |-- pc: string (nullable = true)\n",
            " |-- px_height: string (nullable = true)\n",
            " |-- px_width: string (nullable = true)\n",
            " |-- ram: string (nullable = true)\n",
            " |-- sc_h: string (nullable = true)\n",
            " |-- sc_w: string (nullable = true)\n",
            " |-- talk_time: string (nullable = true)\n",
            " |-- three_g: string (nullable = true)\n",
            " |-- touch_screen: string (nullable = true)\n",
            " |-- wifi: string (nullable = true)\n",
            "\n"
          ]
        },
        {
          "output_type": "execute_result",
          "data": {
            "text/plain": [
              "(None, None)"
            ]
          },
          "metadata": {},
          "execution_count": 5
        }
      ]
    },
    {
      "cell_type": "markdown",
      "source": [
        "# Объедините train и test"
      ],
      "metadata": {
        "id": "_RxzmtqCKchQ"
      }
    },
    {
      "cell_type": "code",
      "source": [
        "#data = train.drop('price_range').unionByName(test.drop('id'))\n",
        "import pandas as pd\n",
        "\n",
        "train = train.drop('price_range')\n",
        "test = test.drop('id')\n",
        "\n",
        "merged_pandas_df = pd.concat([train.toPandas(), test.toPandas()], axis=0)\n",
        "\n",
        "data = spark.createDataFrame(merged_pandas_df)"
      ],
      "metadata": {
        "id": "B_Y37LMxKHNg"
      },
      "execution_count": 6,
      "outputs": []
    },
    {
      "cell_type": "markdown",
      "source": [
        "## Рассчитайте соотношение сторон телефона и экрана\n",
        "### Выведите отсортированное распределение плотности пикселей в пикселях на дюйм"
      ],
      "metadata": {
        "id": "KIlSmfIkKpwB"
      }
    },
    {
      "cell_type": "code",
      "source": [
        "#Добавим столбец \"ppi\" с рассчитанной плотностью пикселей\n",
        "from pyspark.sql.functions import round\n",
        "\n",
        "data = data\\\n",
        "    .withColumn('ppi',\n",
        "        round((F.pow(F.pow(F.col('px_height'), F.lit(2)) + F.pow(F.col('px_width'), F.lit(2)), F.lit(0.5)) /\n",
        "        ((F.pow(F.pow(F.col('sc_h'), F.lit(2)) + F.pow(F.col('sc_w'), F.lit(2)), F.lit(0.5))) / 2.54)))\n",
        "    )\n",
        "data.show(5)"
      ],
      "metadata": {
        "colab": {
          "base_uri": "https://localhost:8080/"
        },
        "id": "S7AkzhY8Kz5e",
        "outputId": "bd150b8e-e151-40b1-93fa-91ef17d7dc98"
      },
      "execution_count": 7,
      "outputs": [
        {
          "output_type": "stream",
          "name": "stdout",
          "text": [
            "+-------------+----+-----------+--------+---+------+----------+-----+---------+-------+---+---------+--------+----+----+----+---------+-------+------------+----+-----+\n",
            "|battery_power|blue|clock_speed|dual_sim| fc|four_g|int_memory|m_dep|mobile_wt|n_cores| pc|px_height|px_width| ram|sc_h|sc_w|talk_time|three_g|touch_screen|wifi|  ppi|\n",
            "+-------------+----+-----------+--------+---+------+----------+-----+---------+-------+---+---------+--------+----+----+----+---------+-------+------------+----+-----+\n",
            "|          842|   0|        2.2|       0|  1|     0|         7|  0.6|      188|      2|  2|       20|     756|2549|   9|   7|       19|      0|           0|   1|168.0|\n",
            "|         1021|   1|        0.5|       1|  0|     1|        53|  0.7|      136|      3|  6|      905|    1988|2631|  17|   3|        7|      1|           1|   0|321.0|\n",
            "|          563|   1|        0.5|       1|  2|     1|        41|  0.9|      145|      5|  6|     1263|    1716|2603|  11|   2|        9|      1|           1|   0|484.0|\n",
            "|          615|   1|        2.5|       0|  0|     0|        10|  0.8|      131|      6|  9|     1216|    1786|2769|  16|   8|       11|      1|           0|   0|307.0|\n",
            "|         1821|   1|        1.2|       0| 13|     1|        44|  0.6|      141|      2| 14|     1208|    1212|1411|   8|   2|       15|      1|           1|   0|527.0|\n",
            "+-------------+----+-----------+--------+---+------+----------+-----+---------+-------+---+---------+--------+----+----+----+---------+-------+------------+----+-----+\n",
            "only showing top 5 rows\n",
            "\n"
          ]
        }
      ]
    },
    {
      "cell_type": "code",
      "source": [
        "from pyspark.sql.functions import desc\n",
        "\n",
        "# Выбор показателя для анализа\n",
        "indicator_column = \"ppi\"\n",
        "\n",
        "# Получение распределения показателя в датафрейме\n",
        "distribution = data.groupBy(indicator_column).count().orderBy(desc(\"count\"))\n",
        "\n",
        "# Вывод отсортированного распределения показателя\n",
        "distribution.show()"
      ],
      "metadata": {
        "colab": {
          "base_uri": "https://localhost:8080/"
        },
        "id": "mefdj96AdmAB",
        "outputId": "3190e1f3-496b-4742-df08-18bc522f2c75"
      },
      "execution_count": 8,
      "outputs": [
        {
          "output_type": "stream",
          "name": "stdout",
          "text": [
            "+-----+-----+\n",
            "|  ppi|count|\n",
            "+-----+-----+\n",
            "|209.0|   18|\n",
            "|225.0|   17|\n",
            "|292.0|   16|\n",
            "|258.0|   15|\n",
            "|197.0|   15|\n",
            "|138.0|   15|\n",
            "|199.0|   14|\n",
            "|214.0|   13|\n",
            "|246.0|   13|\n",
            "|122.0|   13|\n",
            "|285.0|   13|\n",
            "|242.0|   13|\n",
            "|176.0|   13|\n",
            "|188.0|   13|\n",
            "|265.0|   13|\n",
            "|180.0|   12|\n",
            "|249.0|   12|\n",
            "|210.0|   12|\n",
            "|205.0|   12|\n",
            "|171.0|   12|\n",
            "+-----+-----+\n",
            "only showing top 20 rows\n",
            "\n"
          ]
        }
      ]
    },
    {
      "cell_type": "code",
      "source": [
        "#Отсортируем датафрейм по плотности пикселей\n",
        "data.sort('ppi').show(10)"
      ],
      "metadata": {
        "colab": {
          "base_uri": "https://localhost:8080/"
        },
        "id": "-eJVhhgIc24x",
        "outputId": "d58fe1a1-565f-4d24-9aca-165496c6d6d7"
      },
      "execution_count": 9,
      "outputs": [
        {
          "output_type": "stream",
          "name": "stdout",
          "text": [
            "+-------------+----+-----------+--------+---+------+----------+-----+---------+-------+---+---------+--------+----+----+----+---------+-------+------------+----+----+\n",
            "|battery_power|blue|clock_speed|dual_sim| fc|four_g|int_memory|m_dep|mobile_wt|n_cores| pc|px_height|px_width| ram|sc_h|sc_w|talk_time|three_g|touch_screen|wifi| ppi|\n",
            "+-------------+----+-----------+--------+---+------+----------+-----+---------+-------+---+---------+--------+----+----+----+---------+-------+------------+----+----+\n",
            "|         1314|   1|        2.8|       1| 13|     1|         5|  1.0|       87|      4| 18|       82|     512|3411|  17|  16|       18|      1|           0|   0|56.0|\n",
            "|         1088|   1|          3|       1|  2|     1|        52|  0.3|      164|      7|  4|       86|     588|1447|  19|  16|       15|      1|           1|   1|61.0|\n",
            "|         1203|   1|        0.5|       1|  0|     1|        11|  0.9|      109|      2| 12|       35|     510|1672|  17|  13|       19|      1|           1|   0|61.0|\n",
            "|         1252|   1|        2.6|       1|  1|     1|        43|  0.8|      124|      1|  3|      153|     538|2447|  18|  15|       11|      1|           0|   0|61.0|\n",
            "|         1481|   1|        2.0|       1|  0|     0|        35|  0.5|      105|      3|  0|      249|     522|2635|  17|  16|        4|      1|           0|   1|63.0|\n",
            "|         1709|   0|        2.2|       1|  1|     1|        13|  0.6|      191|      6|  6|       74|     516|3899|  16|  13|        3|      1|           0|   1|64.0|\n",
            "|         1999|   0|        0.5|       1|  1|     1|        15|  0.7|      183|      8| 11|       33|     653|3840|  19|  17|       12|      1|           0|   1|65.0|\n",
            "|         1778|   0|        1.4|       1|  3|     1|        45|  1.0|      132|      4| 17|       88|     516|1624|  15|  13|        9|      1|           1|   0|67.0|\n",
            "|          904|   0|        1.8|       0|  3|     1|        35|  0.4|      168|      3|  4|       42|     507|1360|  15|  12|       11|      1|           0|   0|67.0|\n",
            "|         1502|   1|        1.2|       0|  0|     0|        54|  0.2|      138|      5| 12|       65|     588|3693|  17|  14|       16|      1|           1|   0|68.0|\n",
            "+-------------+----+-----------+--------+---+------+----------+-----+---------+-------+---+---------+--------+----+----+----+---------+-------+------------+----+----+\n",
            "only showing top 10 rows\n",
            "\n"
          ]
        }
      ]
    },
    {
      "cell_type": "markdown",
      "source": [
        "### Сохраните результат в csv sep=';', encoding='cp1251' с колонками id, плотность пикселей и общей инфой в формате \"2 ядра 2 гига\""
      ],
      "metadata": {
        "id": "ZDXJuJRlNoXW"
      }
    },
    {
      "cell_type": "code",
      "source": [
        "from pyspark.sql import SparkSession\n",
        "from pyspark.sql.functions import col, concat, lit\n",
        "\n",
        "#Добавим столбцы \"id\" и \"Общая информация\" в формате \"2 ядра 2 гига\"\n",
        "data = data\\\n",
        "        .withColumn('id', F.monotonically_increasing_id())\\\n",
        "        .withColumn(\"Общая информация\", concat(col(\"n_cores\"), lit(\" ядра \"), col(\"ram\"), lit(\" гига\")))\n",
        "\n",
        "#Сохраним данные в файл\n",
        "data\\\n",
        ".select(\n",
        "    'id', \n",
        "    'ppi', \n",
        "    'Общая информация')\\\n",
        ".write.option('encoding', 'cp1252').csv('results.csv', mode='overwrite', sep=';', header=True)"
      ],
      "metadata": {
        "id": "UKHX_wvHNtEn"
      },
      "execution_count": 10,
      "outputs": []
    },
    {
      "cell_type": "code",
      "source": [
        "results = spark.read.csv('results.csv', sep=';', header=True)\n",
        "results.show(5)"
      ],
      "metadata": {
        "colab": {
          "base_uri": "https://localhost:8080/"
        },
        "id": "pXOfl0fhOG1b",
        "outputId": "dda4425f-eee1-4d45-93bf-76e9c6a49e13"
      },
      "execution_count": 11,
      "outputs": [
        {
          "output_type": "stream",
          "name": "stdout",
          "text": [
            "+-----------+------+----------------+\n",
            "|         id|   ppi|????? ??????????|\n",
            "+-----------+------+----------------+\n",
            "|17179869184| 197.0|2 ???? 2423 ????|\n",
            "|17179869185| 318.0|2 ???? 1658 ????|\n",
            "|17179869186|  79.0|8 ???? 2361 ????|\n",
            "|17179869187| 174.0|4 ???? 1380 ????|\n",
            "|17179869188|1069.0|6 ???? 3892 ????|\n",
            "+-----------+------+----------------+\n",
            "only showing top 5 rows\n",
            "\n"
          ]
        }
      ]
    },
    {
      "cell_type": "code",
      "source": [
        "#Перезапишем в формате utf8\n",
        "data\\\n",
        ".select(\n",
        "    'id', \n",
        "    'ppi', \n",
        "    'Общая информация')\\\n",
        ".write.option('encoding', 'utf8').csv('results.csv', mode='overwrite', sep=';', header=True)"
      ],
      "metadata": {
        "id": "Er6V1WwQYcnb"
      },
      "execution_count": 12,
      "outputs": []
    },
    {
      "cell_type": "code",
      "source": [
        "results = spark.read.csv('results.csv', sep=';', header=True)\n",
        "results.show(5)"
      ],
      "metadata": {
        "colab": {
          "base_uri": "https://localhost:8080/"
        },
        "id": "nVhLB8XeYyK-",
        "outputId": "507e6572-aa6a-48f7-97f3-cbefde7d106d"
      },
      "execution_count": 13,
      "outputs": [
        {
          "output_type": "stream",
          "name": "stdout",
          "text": [
            "+-----------+------+----------------+\n",
            "|         id|   ppi|Общая информация|\n",
            "+-----------+------+----------------+\n",
            "|17179869184| 197.0|2 ядра 2423 гига|\n",
            "|17179869185| 318.0|2 ядра 1658 гига|\n",
            "|17179869186|  79.0|8 ядра 2361 гига|\n",
            "|17179869187| 174.0|4 ядра 1380 гига|\n",
            "|17179869188|1069.0|6 ядра 3892 гига|\n",
            "+-----------+------+----------------+\n",
            "only showing top 5 rows\n",
            "\n"
          ]
        }
      ]
    }
  ]
}
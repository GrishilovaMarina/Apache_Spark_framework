{
  "nbformat": 4,
  "nbformat_minor": 0,
  "metadata": {
    "colab": {
      "provenance": []
    },
    "kernelspec": {
      "name": "python3",
      "display_name": "Python 3"
    },
    "language_info": {
      "name": "python"
    }
  },
  "cells": [
    {
      "cell_type": "code",
      "source": [
        "!pip install pyspark"
      ],
      "metadata": {
        "colab": {
          "base_uri": "https://localhost:8080/"
        },
        "id": "QFTU1bXsWFsP",
        "outputId": "246d3e12-d107-42a4-b0d5-27dcdb6120ff"
      },
      "execution_count": 1,
      "outputs": [
        {
          "output_type": "stream",
          "name": "stdout",
          "text": [
            "Looking in indexes: https://pypi.org/simple, https://us-python.pkg.dev/colab-wheels/public/simple/\n",
            "Collecting pyspark\n",
            "  Downloading pyspark-3.4.0.tar.gz (310.8 MB)\n",
            "\u001b[2K     \u001b[90m━━━━━━━━━━━━━━━━━━━━━━━━━━━━━━━━━━━━━━━\u001b[0m \u001b[32m310.8/310.8 MB\u001b[0m \u001b[31m4.2 MB/s\u001b[0m eta \u001b[36m0:00:00\u001b[0m\n",
            "\u001b[?25h  Preparing metadata (setup.py) ... \u001b[?25l\u001b[?25hdone\n",
            "Requirement already satisfied: py4j==0.10.9.7 in /usr/local/lib/python3.10/dist-packages (from pyspark) (0.10.9.7)\n",
            "Building wheels for collected packages: pyspark\n",
            "  Building wheel for pyspark (setup.py) ... \u001b[?25l\u001b[?25hdone\n",
            "  Created wheel for pyspark: filename=pyspark-3.4.0-py2.py3-none-any.whl size=311317130 sha256=cacfbf6e248e740533c0304bacb240934819cea9fdbda6e93202887eb762c56c\n",
            "  Stored in directory: /root/.cache/pip/wheels/7b/1b/4b/3363a1d04368e7ff0d408e57ff57966fcdf00583774e761327\n",
            "Successfully built pyspark\n",
            "Installing collected packages: pyspark\n",
            "Successfully installed pyspark-3.4.0\n"
          ]
        }
      ]
    },
    {
      "cell_type": "code",
      "execution_count": 2,
      "metadata": {
        "id": "OGKjBirSU8rh"
      },
      "outputs": [],
      "source": [
        "from pyspark.sql import SparkSession\n",
        "import pyspark.sql.functions as F\n",
        "from pyspark.sql.functions import *\n",
        "spark = SparkSession.builder\\\n",
        "    .master(\"local[2]\")\\\n",
        "    .appName(\"Lesson_2\")\\\n",
        "    .config(\"spark.executor.instances\",2)\\\n",
        "    .config(\"spark.executor.memory\",'2g')\\\n",
        "    .config(\"spark.executor.cores\",1)\\\n",
        "    .getOrCreate()\n",
        "sc = spark.sparkContext"
      ]
    },
    {
      "cell_type": "markdown",
      "source": [
        "##Данные: google drive: raw_sales.csv\n",
        "###Каждая строчка это продажа жилья, которая состоит из следующих полей (думаю описание не требуется):\n",
        "\n",
        "####date of sale\n",
        "####price\n",
        "####property type\n",
        "####number of bedrooms\n",
        "####4digit postcode"
      ],
      "metadata": {
        "id": "N_8VOh7TazfD"
      }
    },
    {
      "cell_type": "code",
      "source": [
        "data = spark.read.csv('raw_sales.csv', header=True)\n",
        "data.show(5)"
      ],
      "metadata": {
        "colab": {
          "base_uri": "https://localhost:8080/"
        },
        "id": "8IjaDzzBWerM",
        "outputId": "d5163be2-346a-4d67-d291-6944e0f7a15c"
      },
      "execution_count": 3,
      "outputs": [
        {
          "output_type": "stream",
          "name": "stdout",
          "text": [
            "+-------------------+--------+------+------------+--------+\n",
            "|           datesold|postcode| price|propertyType|bedrooms|\n",
            "+-------------------+--------+------+------------+--------+\n",
            "|2007-02-07 00:00:00|    2607|525000|       house|       4|\n",
            "|2007-02-27 00:00:00|    2906|290000|       house|       3|\n",
            "|2007-03-07 00:00:00|    2905|328000|       house|       3|\n",
            "|2007-03-09 00:00:00|    2905|380000|       house|       4|\n",
            "|2007-03-21 00:00:00|    2906|310000|       house|       3|\n",
            "+-------------------+--------+------+------------+--------+\n",
            "only showing top 5 rows\n",
            "\n"
          ]
        }
      ]
    },
    {
      "cell_type": "markdown",
      "source": [
        "##Задание 1\n",
        "###Добавьте к таблице следующие поля:\n",
        "\n",
        "###Средняя стомость 10 проданных домов до текущего в том же районе (4digit postcode)\n",
        "###Средняя стомость 10 проданных домов после текущего в том же районе (4digit postcode)\n",
        "###Стоимость последнего проданного дома до текущего"
      ],
      "metadata": {
        "id": "qzsl6jAWbQS-"
      }
    },
    {
      "cell_type": "code",
      "source": [
        "from pyspark.sql import Window\n",
        "#from pyspark.sql.pandas.functions import pandas_udf, PandasUDFType\n",
        "w = Window.partitionBy(\"postcode\").orderBy(\"datesold\")\n",
        "\n",
        "data_new = data.withColumn(\"average_cost_10_before\", F.avg(F.col('price')).over(w.rowsBetween(Window.currentRow-10, Window.currentRow-1)))\\\n",
        ".withColumn(\"average_cost_10_after\", F.avg(F.col('price')).over(w.rowsBetween(Window.currentRow+1, Window.currentRow+10)))\\\n",
        ".withColumn(\"cost_last_before\", F.lag(F.col('price'), 1).over(w))\n",
        "         "
      ],
      "metadata": {
        "id": "ZxVvw-BPbXI5"
      },
      "execution_count": 4,
      "outputs": []
    },
    {
      "cell_type": "code",
      "source": [
        "data_new.show(5)"
      ],
      "metadata": {
        "colab": {
          "base_uri": "https://localhost:8080/"
        },
        "id": "Sj9eNbu_c1vc",
        "outputId": "3e694561-0c3d-4b66-cd22-98675857413b"
      },
      "execution_count": 5,
      "outputs": [
        {
          "output_type": "stream",
          "name": "stdout",
          "text": [
            "+-------------------+--------+------+------------+--------+----------------------+---------------------+----------------+\n",
            "|           datesold|postcode| price|propertyType|bedrooms|average_cost_10_before|average_cost_10_after|cost_last_before|\n",
            "+-------------------+--------+------+------------+--------+----------------------+---------------------+----------------+\n",
            "|2007-07-08 00:00:00|    2600|327000|       house|       1|                  null|             708350.0|            null|\n",
            "|2007-08-16 00:00:00|    2600|790000|       house|       4|              327000.0|             698350.0|          327000|\n",
            "|2007-12-05 00:00:00|    2600|825000|       house|       3|              558500.0|             679350.0|          790000|\n",
            "|2008-01-21 00:00:00|    2600|315000|        unit|       1|     647333.3333333334|             742850.0|          825000|\n",
            "|2008-04-24 00:00:00|    2600|292500|       house|       1|              564250.0|             786600.0|          315000|\n",
            "+-------------------+--------+------+------------+--------+----------------------+---------------------+----------------+\n",
            "only showing top 5 rows\n",
            "\n"
          ]
        }
      ]
    },
    {
      "cell_type": "markdown",
      "source": [
        "##Задание 2\n",
        "###В итоге у вас таблица с колонками (или нечто похожее):\n",
        "\n",
        "###price\n",
        "###Среднегодовая цена\n",
        "###Средняя стомость 10 проданных домов до текущего в том же районе (4digit postcode) (1 балл)\n",
        "###Средняя стомость 10 проданных домов после текущего в том же районе (4digit postcode) (1 балл)\n",
        "###Стоимость последнего проданного дома до текущего ((1 балл)\n",
        "и др.\n",
        "###Посчитайте кол-во уникальных значений в каждой строчке (unique(row)) (ипользуйте udf). Попробуйте сделать то же самое используя pandas udf."
      ],
      "metadata": {
        "id": "Q2dJ9DMdev03"
      }
    },
    {
      "cell_type": "code",
      "source": [
        "data_new.withColumn('array_distinct', F.size(F.array_distinct(F.array(data_new.columns)))).show()"
      ],
      "metadata": {
        "colab": {
          "base_uri": "https://localhost:8080/"
        },
        "id": "xglBKoIIe38i",
        "outputId": "d0aa54aa-a68a-4173-8635-c397ee4916c1"
      },
      "execution_count": 6,
      "outputs": [
        {
          "output_type": "stream",
          "name": "stdout",
          "text": [
            "+-------------------+--------+-------+------------+--------+----------------------+---------------------+----------------+--------------+\n",
            "|           datesold|postcode|  price|propertyType|bedrooms|average_cost_10_before|average_cost_10_after|cost_last_before|array_distinct|\n",
            "+-------------------+--------+-------+------------+--------+----------------------+---------------------+----------------+--------------+\n",
            "|2007-07-08 00:00:00|    2600| 327000|       house|       1|                  null|             708350.0|            null|             7|\n",
            "|2007-08-16 00:00:00|    2600| 790000|       house|       4|              327000.0|             698350.0|          327000|             8|\n",
            "|2007-12-05 00:00:00|    2600| 825000|       house|       3|              558500.0|             679350.0|          790000|             8|\n",
            "|2008-01-21 00:00:00|    2600| 315000|        unit|       1|     647333.3333333334|             742850.0|          825000|             8|\n",
            "|2008-04-24 00:00:00|    2600| 292500|       house|       1|              564250.0|             786600.0|          315000|             8|\n",
            "|2008-05-30 00:00:00|    2600| 329000|        unit|       2|              509900.0|             839200.0|          292500|             8|\n",
            "|2008-06-19 00:00:00|    2600| 765000|       house|       5|              479750.0|             868450.0|          329000|             8|\n",
            "|2008-07-29 00:00:00|    2600| 927000|       house|       4|              520500.0|             805750.0|          765000|             8|\n",
            "|2008-09-02 00:00:00|    2600|1380000|       house|       5|              571312.5|             715250.0|          927000|             8|\n",
            "|2008-09-08 00:00:00|    2600| 740000|       house|       3|     661166.6666666666|             756250.0|         1380000|             8|\n",
            "|2008-09-17 00:00:00|    2600| 720000|       house|       3|              669050.0|             741750.0|          740000|             8|\n",
            "|2008-09-22 00:00:00|    2600| 690000|       house|       4|              708350.0|             730550.0|          720000|             8|\n",
            "|2008-11-18 00:00:00|    2600| 635000|       house|       3|              698350.0|             755050.0|          690000|             8|\n",
            "|2008-11-18 00:00:00|    2600| 950000|       house|       3|              679350.0|             701050.0|          635000|             8|\n",
            "|2008-11-21 00:00:00|    2600| 730000|       house|       3|              742850.0|             729550.0|          950000|             8|\n",
            "|2008-12-22 00:00:00|    2600| 855000|       house|       3|              786600.0|             716250.0|          730000|             8|\n",
            "|2008-12-24 00:00:00|    2600|1057500|       house|       4|              839200.0|             641500.0|          855000|             8|\n",
            "|2009-01-06 00:00:00|    2600| 300000|        unit|       2|              868450.0|             672500.0|         1057500|             8|\n",
            "|2009-01-12 00:00:00|    2600| 475000|        unit|       2|              805750.0|             689000.0|          300000|             8|\n",
            "|2009-01-20 00:00:00|    2600|1150000|       house|       4|              715250.0|             641500.0|          475000|             8|\n",
            "+-------------------+--------+-------+------------+--------+----------------------+---------------------+----------------+--------------+\n",
            "only showing top 20 rows\n",
            "\n"
          ]
        }
      ]
    },
    {
      "cell_type": "code",
      "source": [
        "data_new.distinct() "
      ],
      "metadata": {
        "colab": {
          "base_uri": "https://localhost:8080/"
        },
        "id": "EHPrssosS-ad",
        "outputId": "e47b54f5-2f9d-43f1-ae46-22494998d74f"
      },
      "execution_count": 7,
      "outputs": [
        {
          "output_type": "execute_result",
          "data": {
            "text/plain": [
              "DataFrame[datesold: string, postcode: string, price: string, propertyType: string, bedrooms: string, average_cost_10_before: double, average_cost_10_after: double, cost_last_before: string]"
            ]
          },
          "metadata": {},
          "execution_count": 7
        }
      ]
    },
    {
      "cell_type": "markdown",
      "source": [
        "##Задание 3\n",
        "###SQL like case when или if elif else\n",
        "\n",
        "###Создайте колонку,в которой будет отображаться \"+\", \"-\" или \"=\", если \"Средняя стомость 10 проданных домов до текущего в том же районе\" больше, меньше или равно \"Средняя стомость 10 проданных домов после текущего в том же районе (4digit postcode)\", соотвественно.\n",
        "\n",
        "###Если одно из полей Null, запишите в эту колонку \"Нет данных\""
      ],
      "metadata": {
        "id": "PWimN3SMhVFa"
      }
    },
    {
      "cell_type": "code",
      "source": [
        "data_new.withColumn('+, -, =', F.when(F.col('average_cost_10_before') > F.col('average_cost_10_after'), '+')\\\n",
        "                    .when(F.col('average_cost_10_before') < F.col('average_cost_10_after'), '-')\\\n",
        "                    .when(F.col('average_cost_10_before').isNull() | F.col('average_cost_10_after').isNull(), 'Нет данных')\\\n",
        "                    .otherwise('=')\n",
        ").show()"
      ],
      "metadata": {
        "colab": {
          "base_uri": "https://localhost:8080/"
        },
        "id": "Ipad1Q7Z3rku",
        "outputId": "e7cfae05-fdb8-4b9a-fe82-581f896f1a2f"
      },
      "execution_count": 8,
      "outputs": [
        {
          "output_type": "stream",
          "name": "stdout",
          "text": [
            "+-------------------+--------+-------+------------+--------+----------------------+---------------------+----------------+----------+\n",
            "|           datesold|postcode|  price|propertyType|bedrooms|average_cost_10_before|average_cost_10_after|cost_last_before|   +, -, =|\n",
            "+-------------------+--------+-------+------------+--------+----------------------+---------------------+----------------+----------+\n",
            "|2007-07-08 00:00:00|    2600| 327000|       house|       1|                  null|             708350.0|            null|Нет данных|\n",
            "|2007-08-16 00:00:00|    2600| 790000|       house|       4|              327000.0|             698350.0|          327000|         -|\n",
            "|2007-12-05 00:00:00|    2600| 825000|       house|       3|              558500.0|             679350.0|          790000|         -|\n",
            "|2008-01-21 00:00:00|    2600| 315000|        unit|       1|     647333.3333333334|             742850.0|          825000|         -|\n",
            "|2008-04-24 00:00:00|    2600| 292500|       house|       1|              564250.0|             786600.0|          315000|         -|\n",
            "|2008-05-30 00:00:00|    2600| 329000|        unit|       2|              509900.0|             839200.0|          292500|         -|\n",
            "|2008-06-19 00:00:00|    2600| 765000|       house|       5|              479750.0|             868450.0|          329000|         -|\n",
            "|2008-07-29 00:00:00|    2600| 927000|       house|       4|              520500.0|             805750.0|          765000|         -|\n",
            "|2008-09-02 00:00:00|    2600|1380000|       house|       5|              571312.5|             715250.0|          927000|         -|\n",
            "|2008-09-08 00:00:00|    2600| 740000|       house|       3|     661166.6666666666|             756250.0|         1380000|         -|\n",
            "|2008-09-17 00:00:00|    2600| 720000|       house|       3|              669050.0|             741750.0|          740000|         -|\n",
            "|2008-09-22 00:00:00|    2600| 690000|       house|       4|              708350.0|             730550.0|          720000|         -|\n",
            "|2008-11-18 00:00:00|    2600| 635000|       house|       3|              698350.0|             755050.0|          690000|         -|\n",
            "|2008-11-18 00:00:00|    2600| 950000|       house|       3|              679350.0|             701050.0|          635000|         -|\n",
            "|2008-11-21 00:00:00|    2600| 730000|       house|       3|              742850.0|             729550.0|          950000|         +|\n",
            "|2008-12-22 00:00:00|    2600| 855000|       house|       3|              786600.0|             716250.0|          730000|         +|\n",
            "|2008-12-24 00:00:00|    2600|1057500|       house|       4|              839200.0|             641500.0|          855000|         +|\n",
            "|2009-01-06 00:00:00|    2600| 300000|        unit|       2|              868450.0|             672500.0|         1057500|         +|\n",
            "|2009-01-12 00:00:00|    2600| 475000|        unit|       2|              805750.0|             689000.0|          300000|         +|\n",
            "|2009-01-20 00:00:00|    2600|1150000|       house|       4|              715250.0|             641500.0|          475000|         +|\n",
            "+-------------------+--------+-------+------------+--------+----------------------+---------------------+----------------+----------+\n",
            "only showing top 20 rows\n",
            "\n"
          ]
        }
      ]
    }
  ]
}
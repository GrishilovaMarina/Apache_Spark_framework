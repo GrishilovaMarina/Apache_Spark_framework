{
  "nbformat": 4,
  "nbformat_minor": 0,
  "metadata": {
    "colab": {
      "provenance": []
    },
    "kernelspec": {
      "name": "python3",
      "display_name": "Python 3"
    },
    "language_info": {
      "name": "python"
    }
  },
  "cells": [
    {
      "cell_type": "markdown",
      "source": [
        "##Самостоятельная работа\n",
        "##Требуется выяснить:\n",
        "\n",
        "##Какое соотношение сторон экрана телефона самое популярное, плотность пикселей у экрана.\n",
        "##Можно использовать только rdd."
      ],
      "metadata": {
        "id": "cwea-FxDhMGh"
      }
    },
    {
      "cell_type": "code",
      "execution_count": 1,
      "metadata": {
        "colab": {
          "base_uri": "https://localhost:8080/"
        },
        "id": "FT-v6v3ugpAw",
        "outputId": "783a4dac-05ca-4b19-dd4f-a2dc35ecd0a7"
      },
      "outputs": [
        {
          "output_type": "stream",
          "name": "stdout",
          "text": [
            "Looking in indexes: https://pypi.org/simple, https://us-python.pkg.dev/colab-wheels/public/simple/\n",
            "Collecting pyspark\n",
            "  Downloading pyspark-3.4.0.tar.gz (310.8 MB)\n",
            "\u001b[2K     \u001b[90m━━━━━━━━━━━━━━━━━━━━━━━━━━━━━━━━━━━━━━━\u001b[0m \u001b[32m310.8/310.8 MB\u001b[0m \u001b[31m3.4 MB/s\u001b[0m eta \u001b[36m0:00:00\u001b[0m\n",
            "\u001b[?25h  Preparing metadata (setup.py) ... \u001b[?25l\u001b[?25hdone\n",
            "Requirement already satisfied: py4j==0.10.9.7 in /usr/local/lib/python3.10/dist-packages (from pyspark) (0.10.9.7)\n",
            "Building wheels for collected packages: pyspark\n",
            "  Building wheel for pyspark (setup.py) ... \u001b[?25l\u001b[?25hdone\n",
            "  Created wheel for pyspark: filename=pyspark-3.4.0-py2.py3-none-any.whl size=311317130 sha256=136b09a2c489390d284ede4997091828b706000015642dabe20047b94cdc6b0f\n",
            "  Stored in directory: /root/.cache/pip/wheels/7b/1b/4b/3363a1d04368e7ff0d408e57ff57966fcdf00583774e761327\n",
            "Successfully built pyspark\n",
            "Installing collected packages: pyspark\n",
            "Successfully installed pyspark-3.4.0\n"
          ]
        }
      ],
      "source": [
        "!pip install pyspark"
      ]
    },
    {
      "cell_type": "code",
      "source": [
        "from pyspark.sql import SparkSession\n",
        "\n",
        "spark = SparkSession.builder\\\n",
        "        .master('local[4]')\\\n",
        "        .appName('Lesson_2')\\\n",
        "        .config('spark.ui.port', '4050')\\\n",
        "        .config('spark.executor.instances', 2)\\\n",
        "        .config('spark.executor.memory', '4g')\\\n",
        "        .config('spark.executor.cores', 2)\\\n",
        "        .getOrCreate()\n",
        "\n",
        "sc = spark.sparkContext\n",
        "\n",
        "\n",
        "# Вспомогательная функция\n",
        "\n",
        "def beautiful_print(rdd, num, title):\n",
        "    print(title)\n",
        "    for row in rdd.take(num):\n",
        "        print('\\t', row)"
      ],
      "metadata": {
        "id": "Zq7nl5QriknF"
      },
      "execution_count": 2,
      "outputs": []
    },
    {
      "cell_type": "code",
      "source": [
        "train = sc.textFile('/content/train.csv')\n",
        "beautiful_print(train, 3, 'Train:')\n",
        "train_first_row = train.first()\n",
        "print(f\"Train size: {train.count()} x {len(train_first_row.split(','))}\")"
      ],
      "metadata": {
        "colab": {
          "base_uri": "https://localhost:8080/"
        },
        "id": "RbZE_NAayeUd",
        "outputId": "b41c5536-3763-4dd8-c58e-41a6704c3a48"
      },
      "execution_count": 3,
      "outputs": [
        {
          "output_type": "stream",
          "name": "stdout",
          "text": [
            "Train:\n",
            "\t battery_power,blue,clock_speed,dual_sim,fc,four_g,int_memory,m_dep,mobile_wt,n_cores,pc,px_height,px_width,ram,sc_h,sc_w,talk_time,three_g,touch_screen,wifi,price_range\n",
            "\t 842,0,2.2,0,1,0,7,0.6,188,2,2,20,756,2549,9,7,19,0,0,1,1\n",
            "\t 1021,1,0.5,1,0,1,53,0.7,136,3,6,905,1988,2631,17,3,7,1,1,0,2\n",
            "Train size: 2001 x 21\n"
          ]
        }
      ]
    },
    {
      "cell_type": "markdown",
      "source": [
        "## Задание 1\n",
        "###  Прочитайте test.csv"
      ],
      "metadata": {
        "id": "RWdR279VDLng"
      }
    },
    {
      "cell_type": "code",
      "source": [
        "test = sc.textFile('/content/test.csv')\n",
        "beautiful_print(test, 3, 'Test:')\n",
        "test_first_row = test.first()\n",
        "print(f\"Test size: {test.count()} x {len(test_first_row.split(','))}\")"
      ],
      "metadata": {
        "colab": {
          "base_uri": "https://localhost:8080/"
        },
        "id": "zUFBewQlyRdX",
        "outputId": "08d0b9e4-673f-4501-cd0e-6b1f30f530b7"
      },
      "execution_count": 4,
      "outputs": [
        {
          "output_type": "stream",
          "name": "stdout",
          "text": [
            "Test:\n",
            "\t id,battery_power,blue,clock_speed,dual_sim,fc,four_g,int_memory,m_dep,mobile_wt,n_cores,pc,px_height,px_width,ram,sc_h,sc_w,talk_time,three_g,touch_screen,wifi\n",
            "\t 1,1043,1,1.8,1,14,0,5,0.1,193,3,16,226,1412,3476,12,7,2,0,1,0\n",
            "\t 2,841,1,0.5,1,4,1,61,0.8,191,5,12,746,857,3895,6,0,7,1,0,0\n",
            "Test size: 1001 x 21\n"
          ]
        }
      ]
    },
    {
      "cell_type": "markdown",
      "source": [
        "###Преобразуем train и test"
      ],
      "metadata": {
        "id": "4laWGPPODmM1"
      }
    },
    {
      "cell_type": "code",
      "source": [
        "train = train\\\n",
        "    .filter(lambda row: row != train_first_row)\\\n",
        "    .map(lambda row: [float(el) for el in row.split(',')[:-1]])\n",
        "    \n",
        "train_header = train_first_row.split(',')\n",
        "beautiful_print(train, 3, train_header)"
      ],
      "metadata": {
        "colab": {
          "base_uri": "https://localhost:8080/"
        },
        "id": "cMsbdyHNDl0t",
        "outputId": "bff48cc0-f880-41f8-856e-04a2b26b6478"
      },
      "execution_count": 5,
      "outputs": [
        {
          "output_type": "stream",
          "name": "stdout",
          "text": [
            "['battery_power', 'blue', 'clock_speed', 'dual_sim', 'fc', 'four_g', 'int_memory', 'm_dep', 'mobile_wt', 'n_cores', 'pc', 'px_height', 'px_width', 'ram', 'sc_h', 'sc_w', 'talk_time', 'three_g', 'touch_screen', 'wifi', 'price_range']\n",
            "\t [842.0, 0.0, 2.2, 0.0, 1.0, 0.0, 7.0, 0.6, 188.0, 2.0, 2.0, 20.0, 756.0, 2549.0, 9.0, 7.0, 19.0, 0.0, 0.0, 1.0]\n",
            "\t [1021.0, 1.0, 0.5, 1.0, 0.0, 1.0, 53.0, 0.7, 136.0, 3.0, 6.0, 905.0, 1988.0, 2631.0, 17.0, 3.0, 7.0, 1.0, 1.0, 0.0]\n",
            "\t [563.0, 1.0, 0.5, 1.0, 2.0, 1.0, 41.0, 0.9, 145.0, 5.0, 6.0, 1263.0, 1716.0, 2603.0, 11.0, 2.0, 9.0, 1.0, 1.0, 0.0]\n"
          ]
        }
      ]
    },
    {
      "cell_type": "markdown",
      "source": [
        "## Задание 2\n",
        "###  Приведите test.csv к аналогичному виду, что и train"
      ],
      "metadata": {
        "id": "bftdTjEBDuHT"
      }
    },
    {
      "cell_type": "code",
      "source": [
        "test = test\\\n",
        "    .filter(lambda row: row != test_first_row)\\\n",
        "    .map(lambda row: [float(el) for el in row.split(',')[1:]])\n",
        "    \n",
        "test_header = test_first_row.split(',')\n",
        "beautiful_print(test, 3, test_header)"
      ],
      "metadata": {
        "colab": {
          "base_uri": "https://localhost:8080/"
        },
        "id": "BvplpbhzDx08",
        "outputId": "25c1eed0-ee95-435b-df28-6db4b10b39a1"
      },
      "execution_count": 6,
      "outputs": [
        {
          "output_type": "stream",
          "name": "stdout",
          "text": [
            "['id', 'battery_power', 'blue', 'clock_speed', 'dual_sim', 'fc', 'four_g', 'int_memory', 'm_dep', 'mobile_wt', 'n_cores', 'pc', 'px_height', 'px_width', 'ram', 'sc_h', 'sc_w', 'talk_time', 'three_g', 'touch_screen', 'wifi']\n",
            "\t [1043.0, 1.0, 1.8, 1.0, 14.0, 0.0, 5.0, 0.1, 193.0, 3.0, 16.0, 226.0, 1412.0, 3476.0, 12.0, 7.0, 2.0, 0.0, 1.0, 0.0]\n",
            "\t [841.0, 1.0, 0.5, 1.0, 4.0, 1.0, 61.0, 0.8, 191.0, 5.0, 12.0, 746.0, 857.0, 3895.0, 6.0, 0.0, 7.0, 1.0, 0.0, 0.0]\n",
            "\t [1807.0, 1.0, 2.8, 0.0, 1.0, 0.0, 27.0, 0.9, 186.0, 3.0, 4.0, 1270.0, 1366.0, 2396.0, 17.0, 10.0, 10.0, 0.0, 1.0, 1.0]\n"
          ]
        }
      ]
    },
    {
      "cell_type": "markdown",
      "source": [
        "###Объединим train и test\n",
        "###PS: нужно сделать средствами rdd pd.concat([train, test,], axis=0)"
      ],
      "metadata": {
        "id": "wv_eptq2EHT0"
      }
    },
    {
      "cell_type": "markdown",
      "source": [
        "## Задание 3\n",
        "###  Объедините данные"
      ],
      "metadata": {
        "id": "K0UrvBIpEdV-"
      }
    },
    {
      "cell_type": "code",
      "source": [
        "combined_rdd = train.union(test)"
      ],
      "metadata": {
        "id": "IIwkCuMb9gi0"
      },
      "execution_count": 7,
      "outputs": []
    },
    {
      "cell_type": "markdown",
      "source": [
        "###Рассчитайте соотношение сторон экрана и его плотность пикселей"
      ],
      "metadata": {
        "id": "APzDrQlX9trm"
      }
    },
    {
      "cell_type": "markdown",
      "source": [
        "## Задание 4\n",
        "###  Рассчитайте соотношение сторон экрана и найдите широкоформатные, выведите это распределение"
      ],
      "metadata": {
        "id": "hzWIzUYo9xap"
      }
    },
    {
      "cell_type": "code",
      "source": [
        "# Расчет соотношения сторон экрана\n",
        "aspect_ratio_rdd = combined_rdd.map(lambda x: (x[12]/x[11]) if x[11] != 0 else 0)\n"
      ],
      "metadata": {
        "id": "l0xcA78OGPZM"
      },
      "execution_count": 8,
      "outputs": []
    },
    {
      "cell_type": "code",
      "source": [
        "aspect_ratio_rdd.collect()[:5]"
      ],
      "metadata": {
        "colab": {
          "base_uri": "https://localhost:8080/"
        },
        "id": "OX1qZ6xI2xfZ",
        "outputId": "344c7b3e-4a10-4d5f-a51d-54bb3b6ffa53"
      },
      "execution_count": 9,
      "outputs": [
        {
          "output_type": "execute_result",
          "data": {
            "text/plain": [
              "[37.8, 2.196685082872928, 1.3586698337292162, 1.46875, 1.0033112582781456]"
            ]
          },
          "metadata": {},
          "execution_count": 9
        }
      ]
    },
    {
      "cell_type": "code",
      "source": [
        "# Вывод широкоформатных экранов\n",
        "wide_screen_rdd = aspect_ratio_rdd.filter(lambda x: x > 1.78)\n",
        "\n",
        "print(f\"Широкоформатные экраны: {wide_screen_rdd.count()},\\nНеширокоформатные экраны: {combined_rdd.count()-wide_screen_rdd.count()}\")\n"
      ],
      "metadata": {
        "colab": {
          "base_uri": "https://localhost:8080/"
        },
        "id": "cvERuh-OJZaZ",
        "outputId": "859a9175-dbf1-48b9-b300-24620b6d1099"
      },
      "execution_count": 10,
      "outputs": [
        {
          "output_type": "stream",
          "name": "stdout",
          "text": [
            "Широкоформатные экраны: 1636,\n",
            "Неширокоформатные экраны: 1364\n"
          ]
        }
      ]
    },
    {
      "cell_type": "markdown",
      "source": [
        "## Задание 5\n",
        "###  Рассчитайте плотность пикселей (лучше ppi), выведите это распределение"
      ],
      "metadata": {
        "id": "rZYKdUXLQWAE"
      }
    },
    {
      "cell_type": "code",
      "source": [
        "#import numpy as np\n",
        "\n",
        "# Рассчитываем PPI\n",
        "ppi_rdd = combined_rdd.map(lambda x: round(((x[11]**2 + x[12]**2)**0.5) / (((x[14]**2 + x[15]**2)**0.5)/2.54)))\n",
        "\n",
        "# Выводим RDD с PPI\n",
        "ppi_rdd.take(3)"
      ],
      "metadata": {
        "colab": {
          "base_uri": "https://localhost:8080/"
        },
        "id": "s6vsFAH_417J",
        "outputId": "837602ef-1640-4e1c-e5f6-45180f0853a1"
      },
      "execution_count": 11,
      "outputs": [
        {
          "output_type": "execute_result",
          "data": {
            "text/plain": [
              "[168, 321, 484]"
            ]
          },
          "metadata": {},
          "execution_count": 11
        }
      ]
    },
    {
      "cell_type": "code",
      "source": [
        "# Вычисляем распределение PPI\n",
        "distribution = ppi_rdd.countByValue()\n",
        "\n",
        "# Выводим распределение PPI. Отсортируем и выведем топ-10\n",
        "sorted_distribution = sorted(distribution.items(), key=lambda x: x[1], reverse=True)\n",
        "sorted_distribution[:10]\n"
      ],
      "metadata": {
        "colab": {
          "base_uri": "https://localhost:8080/"
        },
        "id": "zkhDmPwU59C6",
        "outputId": "a152122a-df53-4f31-adfd-d33d32c039fe"
      },
      "execution_count": 12,
      "outputs": [
        {
          "output_type": "execute_result",
          "data": {
            "text/plain": [
              "[(209, 18),\n",
              " (225, 17),\n",
              " (292, 16),\n",
              " (197, 15),\n",
              " (258, 15),\n",
              " (138, 15),\n",
              " (199, 14),\n",
              " (285, 13),\n",
              " (122, 13),\n",
              " (176, 13)]"
            ]
          },
          "metadata": {},
          "execution_count": 12
        }
      ]
    },
    {
      "cell_type": "markdown",
      "source": [
        "## Задание 6\n",
        "###  Рассчитайте для train и test, затем объедините результат"
      ],
      "metadata": {
        "id": "k0t_U2Se6_1y"
      }
    },
    {
      "cell_type": "code",
      "source": [
        "ppi_train_rdd = train.map(lambda x: round(((x[11]**2 + x[12]**2)**0.5) / ((x[14] / 2.54) * (x[15] / 2.54)) if x[14] != 0 and x[15] != 0 else 0))\n",
        "ppi_test_rdd = test.map(lambda x: round(((x[11]**2 + x[12]**2)**0.5) / ((x[14] / 2.54) * (x[15] / 2.54)) if x[14] != 0 and x[15] != 0 else 0)) \n",
        "ppi_all_rdd = ppi_train_rdd.union(ppi_test_rdd)"
      ],
      "metadata": {
        "id": "9vu6RqDt8YiJ"
      },
      "execution_count": 13,
      "outputs": []
    }
  ]
}
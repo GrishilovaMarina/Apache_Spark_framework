{
  "nbformat": 4,
  "nbformat_minor": 0,
  "metadata": {
    "colab": {
      "provenance": []
    },
    "kernelspec": {
      "name": "python3",
      "display_name": "Python 3"
    },
    "language_info": {
      "name": "python"
    }
  },
  "cells": [
    {
      "cell_type": "markdown",
      "source": [
        "###Прочитайте файлы в rdd, проведите их анализ, и расскажите, чем они отличаются (для оценки отлично достаточно чтения файла и просмотра части его содержимого и сравнения названия колонок)."
      ],
      "metadata": {
        "id": "cwea-FxDhMGh"
      }
    },
    {
      "cell_type": "code",
      "execution_count": 1,
      "metadata": {
        "colab": {
          "base_uri": "https://localhost:8080/"
        },
        "id": "FT-v6v3ugpAw",
        "outputId": "fae9521a-8ace-48de-b284-d4ce95f84bc3"
      },
      "outputs": [
        {
          "output_type": "stream",
          "name": "stdout",
          "text": [
            "Looking in indexes: https://pypi.org/simple, https://us-python.pkg.dev/colab-wheels/public/simple/\n",
            "Collecting pyspark\n",
            "  Downloading pyspark-3.4.0.tar.gz (310.8 MB)\n",
            "\u001b[2K     \u001b[90m━━━━━━━━━━━━━━━━━━━━━━━━━━━━━━━━━━━━━━━\u001b[0m \u001b[32m310.8/310.8 MB\u001b[0m \u001b[31m4.4 MB/s\u001b[0m eta \u001b[36m0:00:00\u001b[0m\n",
            "\u001b[?25h  Preparing metadata (setup.py) ... \u001b[?25l\u001b[?25hdone\n",
            "Requirement already satisfied: py4j==0.10.9.7 in /usr/local/lib/python3.10/dist-packages (from pyspark) (0.10.9.7)\n",
            "Building wheels for collected packages: pyspark\n",
            "  Building wheel for pyspark (setup.py) ... \u001b[?25l\u001b[?25hdone\n",
            "  Created wheel for pyspark: filename=pyspark-3.4.0-py2.py3-none-any.whl size=311317130 sha256=47de544897ea46329caaf647b403b41fb63ce816352fe23b19061f763580e5d6\n",
            "  Stored in directory: /root/.cache/pip/wheels/7b/1b/4b/3363a1d04368e7ff0d408e57ff57966fcdf00583774e761327\n",
            "Successfully built pyspark\n",
            "Installing collected packages: pyspark\n",
            "Successfully installed pyspark-3.4.0\n"
          ]
        }
      ],
      "source": [
        "!pip install pyspark"
      ]
    },
    {
      "cell_type": "code",
      "source": [
        "from pyspark.sql import SparkSession\n",
        "\n",
        "spark = SparkSession.builder\\\n",
        "        .master('local[2]')\\\n",
        "        .appName('Lesson_2')\\\n",
        "        .config('spark.ui.port', '4050')\\\n",
        "        .config('spark.executor.instances', 2)\\\n",
        "        .config('spark.executor.memory', f'{int(120000 / 2 /1.1)}mb')\\\n",
        "        .config('spark.executor.cores', 1)\\\n",
        "        .getOrCreate()\n",
        "\n",
        "sc = spark.sparkContext"
      ],
      "metadata": {
        "id": "Zq7nl5QriknF"
      },
      "execution_count": 2,
      "outputs": []
    },
    {
      "cell_type": "code",
      "source": [
        "data_train = sc.textFile('./train.csv')\n",
        "data_test = sc.textFile('./test.csv')"
      ],
      "metadata": {
        "id": "2b3W7Qdvib6m"
      },
      "execution_count": 3,
      "outputs": []
    },
    {
      "cell_type": "code",
      "source": [
        "data_train.take(5)"
      ],
      "metadata": {
        "colab": {
          "base_uri": "https://localhost:8080/"
        },
        "id": "qiZEknhCjzRz",
        "outputId": "a0f1041e-60a0-4a81-8759-c81096efbb67"
      },
      "execution_count": 4,
      "outputs": [
        {
          "output_type": "execute_result",
          "data": {
            "text/plain": [
              "['battery_power,blue,clock_speed,dual_sim,fc,four_g,int_memory,m_dep,mobile_wt,n_cores,pc,px_height,px_width,ram,sc_h,sc_w,talk_time,three_g,touch_screen,wifi,price_range',\n",
              " '842,0,2.2,0,1,0,7,0.6,188,2,2,20,756,2549,9,7,19,0,0,1,1',\n",
              " '1021,1,0.5,1,0,1,53,0.7,136,3,6,905,1988,2631,17,3,7,1,1,0,2',\n",
              " '563,1,0.5,1,2,1,41,0.9,145,5,6,1263,1716,2603,11,2,9,1,1,0,2',\n",
              " '615,1,2.5,0,0,0,10,0.8,131,6,9,1216,1786,2769,16,8,11,1,0,0,2']"
            ]
          },
          "metadata": {},
          "execution_count": 4
        }
      ]
    },
    {
      "cell_type": "code",
      "source": [
        "data_test.take(5)"
      ],
      "metadata": {
        "colab": {
          "base_uri": "https://localhost:8080/"
        },
        "id": "VmAs2YQQkEuY",
        "outputId": "0632f9ba-9dae-4984-b5b1-5c3fde13b098"
      },
      "execution_count": 5,
      "outputs": [
        {
          "output_type": "execute_result",
          "data": {
            "text/plain": [
              "['id,battery_power,blue,clock_speed,dual_sim,fc,four_g,int_memory,m_dep,mobile_wt,n_cores,pc,px_height,px_width,ram,sc_h,sc_w,talk_time,three_g,touch_screen,wifi',\n",
              " '1,1043,1,1.8,1,14,0,5,0.1,193,3,16,226,1412,3476,12,7,2,0,1,0',\n",
              " '2,841,1,0.5,1,4,1,61,0.8,191,5,12,746,857,3895,6,0,7,1,0,0',\n",
              " '3,1807,1,2.8,0,1,0,27,0.9,186,3,4,1270,1366,2396,17,10,10,0,1,1',\n",
              " '4,1546,0,0.5,1,18,1,25,0.5,96,8,20,295,1752,3893,10,0,7,1,1,0']"
            ]
          },
          "metadata": {},
          "execution_count": 5
        }
      ]
    },
    {
      "cell_type": "code",
      "source": [
        "header_train = data_train.first()\n",
        "columns_train = header_train.split(',')\n",
        "\n",
        "print(columns_train)"
      ],
      "metadata": {
        "colab": {
          "base_uri": "https://localhost:8080/"
        },
        "id": "9EOAcTpcJMU-",
        "outputId": "992c562e-ad2d-4e6f-a088-02049ccffe69"
      },
      "execution_count": 6,
      "outputs": [
        {
          "output_type": "stream",
          "name": "stdout",
          "text": [
            "['battery_power', 'blue', 'clock_speed', 'dual_sim', 'fc', 'four_g', 'int_memory', 'm_dep', 'mobile_wt', 'n_cores', 'pc', 'px_height', 'px_width', 'ram', 'sc_h', 'sc_w', 'talk_time', 'three_g', 'touch_screen', 'wifi', 'price_range']\n"
          ]
        }
      ]
    },
    {
      "cell_type": "code",
      "source": [
        "header_test = data_test.first()\n",
        "columns_test = header_test.split(',')\n",
        "\n",
        "print(columns_test)"
      ],
      "metadata": {
        "colab": {
          "base_uri": "https://localhost:8080/"
        },
        "id": "rUK-vVPZJVaz",
        "outputId": "e29b038b-bb7b-4afb-ffa9-e60f305a6d7f"
      },
      "execution_count": 7,
      "outputs": [
        {
          "output_type": "stream",
          "name": "stdout",
          "text": [
            "['id', 'battery_power', 'blue', 'clock_speed', 'dual_sim', 'fc', 'four_g', 'int_memory', 'm_dep', 'mobile_wt', 'n_cores', 'pc', 'px_height', 'px_width', 'ram', 'sc_h', 'sc_w', 'talk_time', 'three_g', 'touch_screen', 'wifi']\n"
          ]
        }
      ]
    },
    {
      "cell_type": "code",
      "source": [
        "if set(columns_train) == set(columns_test):\n",
        "    print(\"Названия столбцов в файле 1 и файле 2 совпадают\")\n",
        "else:\n",
        "    print(\"Названия столбцов в файле 1 и файле 2 не совпадают\")"
      ],
      "metadata": {
        "colab": {
          "base_uri": "https://localhost:8080/"
        },
        "id": "l4cM21CN0a_M",
        "outputId": "ad149b47-87f2-48b8-97e2-c0a44f707222"
      },
      "execution_count": 8,
      "outputs": [
        {
          "output_type": "stream",
          "name": "stdout",
          "text": [
            "Названия столбцов в файле 1 и файле 2 не совпадают\n"
          ]
        }
      ]
    },
    {
      "cell_type": "code",
      "source": [
        "type(data_train), type(data_test)"
      ],
      "metadata": {
        "colab": {
          "base_uri": "https://localhost:8080/"
        },
        "id": "bp3AUnECAg4P",
        "outputId": "85756183-8c1f-41ed-b9ba-9828438c5958"
      },
      "execution_count": 9,
      "outputs": [
        {
          "output_type": "execute_result",
          "data": {
            "text/plain": [
              "(pyspark.rdd.RDD, pyspark.rdd.RDD)"
            ]
          },
          "metadata": {},
          "execution_count": 9
        }
      ]
    },
    {
      "cell_type": "code",
      "source": [
        "set(header_train.split(',')) ^ set(header_test.split(','))"
      ],
      "metadata": {
        "colab": {
          "base_uri": "https://localhost:8080/"
        },
        "id": "4GJOq-lB_GQ-",
        "outputId": "ddf7b26d-3f67-4b97-c67c-8ca69f439840"
      },
      "execution_count": 10,
      "outputs": [
        {
          "output_type": "execute_result",
          "data": {
            "text/plain": [
              "{'id', 'price_range'}"
            ]
          },
          "metadata": {},
          "execution_count": 10
        }
      ]
    },
    {
      "cell_type": "markdown",
      "source": [
        "####т.е. столбец id отсутсвует в train, но есть в test. И наоборот столбец price_range присутсвует в train и отсутсвует в test"
      ],
      "metadata": {
        "id": "6D5MIC7q_eHL"
      }
    },
    {
      "cell_type": "markdown",
      "source": [
        "####Загрузим данные в виде табличной структуры."
      ],
      "metadata": {
        "id": "kuti9SbZKHEF"
      }
    },
    {
      "cell_type": "code",
      "source": [
        "df_train = spark.read.format(\"csv\").option(\"header\", \"true\").load(\"train.csv\")\n",
        "df_test = spark.read.format(\"csv\").option(\"header\", \"true\").load(\"test.csv\")\n",
        "stats_train = df_train.describe()\n",
        "stats_test = df_test.describe()\n",
        "stats_train.show(), stats_test.show()"
      ],
      "metadata": {
        "colab": {
          "base_uri": "https://localhost:8080/"
        },
        "id": "i-vc-LoQDePr",
        "outputId": "3317f8fa-b065-4ea3-ca83-f6d075b8cb71"
      },
      "execution_count": 11,
      "outputs": [
        {
          "output_type": "stream",
          "name": "stdout",
          "text": [
            "+-------+-----------------+------------------+------------------+------------------+-----------------+-------------------+------------------+------------------+-----------------+------------------+-----------------+------------------+-----------------+------------------+-----------------+-----------------+-----------------+-----------------+------------------+------------------+------------------+\n",
            "|summary|    battery_power|              blue|       clock_speed|          dual_sim|               fc|             four_g|        int_memory|             m_dep|        mobile_wt|           n_cores|               pc|         px_height|         px_width|               ram|             sc_h|             sc_w|        talk_time|          three_g|      touch_screen|              wifi|       price_range|\n",
            "+-------+-----------------+------------------+------------------+------------------+-----------------+-------------------+------------------+------------------+-----------------+------------------+-----------------+------------------+-----------------+------------------+-----------------+-----------------+-----------------+-----------------+------------------+------------------+------------------+\n",
            "|  count|             2000|              2000|              2000|              2000|             2000|               2000|              2000|              2000|             2000|              2000|             2000|              2000|             2000|              2000|             2000|             2000|             2000|             2000|              2000|              2000|              2000|\n",
            "|   mean|        1238.5185|             0.495|1.5222499999999983|            0.5095|           4.3095|             0.5215|           32.0465|0.5017500000000017|          140.249|            4.5205|           9.9165|           645.108|        1251.5155|          2124.213|          12.3065|            5.767|           11.011|           0.7615|             0.503|             0.507|               1.5|\n",
            "| stddev|439.4182060835313|0.5001000400170073| 0.816004208895068|0.5000347661750049|4.341443747983898|0.49966246736236364|18.145714955206856|0.2884155496235117|35.39965489638834|2.2878367180426618|6.064314941347778|443.78081080643824|432.1994469463379|1084.7320436099492|4.213245004356303|4.356397605826408|5.463955197766688|0.426272922318731|0.5001160445626741|0.5000760322381088|1.1183136021064597|\n",
            "|    min|             1000|                 0|               0.5|                 0|                0|                  0|                10|               0.1|              100|                 1|                0|                 0|             1000|              1005|               10|                0|               10|                0|                 0|                 0|                 0|\n",
            "|    max|              999|                 1|               3.0|                 1|                9|                  1|                 9|               1.0|               99|                 8|                9|               997|              999|               999|                9|                9|                9|                1|                 1|                 1|                 3|\n",
            "+-------+-----------------+------------------+------------------+------------------+-----------------+-------------------+------------------+------------------+-----------------+------------------+-----------------+------------------+-----------------+------------------+-----------------+-----------------+-----------------+-----------------+------------------+------------------+------------------+\n",
            "\n",
            "+-------+-----------------+------------------+-------------------+------------------+------------------+-----------------+------------------+------------------+-------------------+------------------+-----------------+------------------+------------------+------------------+-----------------+-----------------+-----------------+-----------------+------------------+-----------------+------------------+\n",
            "|summary|               id|     battery_power|               blue|       clock_speed|          dual_sim|               fc|            four_g|        int_memory|              m_dep|         mobile_wt|          n_cores|                pc|         px_height|          px_width|              ram|             sc_h|             sc_w|        talk_time|           three_g|     touch_screen|              wifi|\n",
            "+-------+-----------------+------------------+-------------------+------------------+------------------+-----------------+------------------+------------------+-------------------+------------------+-----------------+------------------+------------------+------------------+-----------------+-----------------+-----------------+-----------------+------------------+-----------------+------------------+\n",
            "|  count|             1000|              1000|               1000|              1000|              1000|             1000|              1000|              1000|               1000|              1000|             1000|              1000|              1000|              1000|             1000|             1000|             1000|             1000|              1000|             1000|              1000|\n",
            "|   mean|            500.5|           1248.51|              0.516|1.5408999999999984|             0.517|            4.593|             0.487|            33.652|             0.5175|           139.511|            4.328|            10.054|           627.121|          1239.774|         2138.998|           11.995|            5.316|           11.085|             0.756|              0.5|             0.507|\n",
            "| stddev|288.8194360957494|432.45822690523266|0.49999399395792143|0.8292676738393193|0.4999609594367956|4.463325248317923|0.5000810745080052|18.128693983449157|0.28086052166980074|34.851549599831415|2.288154638928858|6.0950991980634965|432.92969923936107|439.67098095677807|1088.092277704791|4.320606744734199|4.240061570557916|5.497635764489947|0.4297076315922823|0.500250187656387|0.5002011607355594|\n",
            "|    min|                1|              1001|                  0|               0.5|                 0|                0|                 0|                10|                0.1|               100|                1|                 0|                 0|              1003|             1005|               10|                0|               10|                 0|                0|                 0|\n",
            "|    max|              999|               996|                  1|                 3|                 1|                9|                 1|                 9|                  1|                99|                8|                 9|               999|               997|              994|                9|                9|                9|                 1|                1|                 1|\n",
            "+-------+-----------------+------------------+-------------------+------------------+------------------+-----------------+------------------+------------------+-------------------+------------------+-----------------+------------------+------------------+------------------+-----------------+-----------------+-----------------+-----------------+------------------+-----------------+------------------+\n",
            "\n"
          ]
        },
        {
          "output_type": "execute_result",
          "data": {
            "text/plain": [
              "(None, None)"
            ]
          },
          "metadata": {},
          "execution_count": 11
        }
      ]
    },
    {
      "cell_type": "code",
      "source": [
        "type(df_train), type(df_test)"
      ],
      "metadata": {
        "colab": {
          "base_uri": "https://localhost:8080/"
        },
        "id": "I86na5RQJkCa",
        "outputId": "86c166eb-55d4-4f1d-f4c1-81a0dc5fc9aa"
      },
      "execution_count": 12,
      "outputs": [
        {
          "output_type": "execute_result",
          "data": {
            "text/plain": [
              "(pyspark.sql.dataframe.DataFrame, pyspark.sql.dataframe.DataFrame)"
            ]
          },
          "metadata": {},
          "execution_count": 12
        }
      ]
    },
    {
      "cell_type": "code",
      "source": [
        "df_train.count(), df_test.count()"
      ],
      "metadata": {
        "colab": {
          "base_uri": "https://localhost:8080/"
        },
        "id": "ktpWQU1eA4Uw",
        "outputId": "31bd1938-8adf-46c4-c381-19953441c862"
      },
      "execution_count": 13,
      "outputs": [
        {
          "output_type": "execute_result",
          "data": {
            "text/plain": [
              "(2000, 1000)"
            ]
          },
          "metadata": {},
          "execution_count": 13
        }
      ]
    },
    {
      "cell_type": "code",
      "source": [
        "df_train.printSchema(), df_test.printSchema()"
      ],
      "metadata": {
        "colab": {
          "base_uri": "https://localhost:8080/"
        },
        "id": "J5-Iqbo2Ec4L",
        "outputId": "b580aca1-591d-4a26-aa41-ca25ae5e9113"
      },
      "execution_count": 14,
      "outputs": [
        {
          "output_type": "stream",
          "name": "stdout",
          "text": [
            "root\n",
            " |-- battery_power: string (nullable = true)\n",
            " |-- blue: string (nullable = true)\n",
            " |-- clock_speed: string (nullable = true)\n",
            " |-- dual_sim: string (nullable = true)\n",
            " |-- fc: string (nullable = true)\n",
            " |-- four_g: string (nullable = true)\n",
            " |-- int_memory: string (nullable = true)\n",
            " |-- m_dep: string (nullable = true)\n",
            " |-- mobile_wt: string (nullable = true)\n",
            " |-- n_cores: string (nullable = true)\n",
            " |-- pc: string (nullable = true)\n",
            " |-- px_height: string (nullable = true)\n",
            " |-- px_width: string (nullable = true)\n",
            " |-- ram: string (nullable = true)\n",
            " |-- sc_h: string (nullable = true)\n",
            " |-- sc_w: string (nullable = true)\n",
            " |-- talk_time: string (nullable = true)\n",
            " |-- three_g: string (nullable = true)\n",
            " |-- touch_screen: string (nullable = true)\n",
            " |-- wifi: string (nullable = true)\n",
            " |-- price_range: string (nullable = true)\n",
            "\n",
            "root\n",
            " |-- id: string (nullable = true)\n",
            " |-- battery_power: string (nullable = true)\n",
            " |-- blue: string (nullable = true)\n",
            " |-- clock_speed: string (nullable = true)\n",
            " |-- dual_sim: string (nullable = true)\n",
            " |-- fc: string (nullable = true)\n",
            " |-- four_g: string (nullable = true)\n",
            " |-- int_memory: string (nullable = true)\n",
            " |-- m_dep: string (nullable = true)\n",
            " |-- mobile_wt: string (nullable = true)\n",
            " |-- n_cores: string (nullable = true)\n",
            " |-- pc: string (nullable = true)\n",
            " |-- px_height: string (nullable = true)\n",
            " |-- px_width: string (nullable = true)\n",
            " |-- ram: string (nullable = true)\n",
            " |-- sc_h: string (nullable = true)\n",
            " |-- sc_w: string (nullable = true)\n",
            " |-- talk_time: string (nullable = true)\n",
            " |-- three_g: string (nullable = true)\n",
            " |-- touch_screen: string (nullable = true)\n",
            " |-- wifi: string (nullable = true)\n",
            "\n"
          ]
        },
        {
          "output_type": "execute_result",
          "data": {
            "text/plain": [
              "(None, None)"
            ]
          },
          "metadata": {},
          "execution_count": 14
        }
      ]
    }
  ]
}
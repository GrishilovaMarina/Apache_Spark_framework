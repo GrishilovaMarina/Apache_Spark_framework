{
  "nbformat": 4,
  "nbformat_minor": 0,
  "metadata": {
    "colab": {
      "provenance": []
    },
    "kernelspec": {
      "name": "python3",
      "display_name": "Python 3"
    },
    "language_info": {
      "name": "python"
    }
  },
  "cells": [
    {
      "cell_type": "markdown",
      "source": [
        "###Кредитный скоринг\n",
        "####При принятии решения о выдаче кредита или займа учитывается т.н. «Кредитный скоринг» — рейтинг платежеспособности клиента. ИИ на основе модели, которую просчитывает машинное обучение — в ней много параметров — возраст, зарплата, кредитная история, наличие недвижимости, автомобиля, судимости и других признаков, после обработки которых выносится положительное или отрицательное решение"
      ],
      "metadata": {
        "id": "ypz1-nNPEhyw"
      }
    },
    {
      "cell_type": "markdown",
      "metadata": {
        "id": "LMtO2wAZFzf1"
      },
      "source": [
        "# Данные:\n",
        "[скачать](https://drive.google.com/file/d/1MuAyZiIm3b_r-AgQSj78tsRPqZpvv_2s/view?usp=sharing)\n",
        "\n",
        "**application_record.csv**\n",
        "*   Feature name\tExplanation\tRemarks\n",
        "*   ID\tClient number\t\n",
        "*   CODE_GENDER\tGender\t\n",
        "*   FLAG_OWN_CAR\tIs there a car\t\n",
        "*   FLAG_OWN_REALTY\tIs there a property\t\n",
        "*   CNT_CHILDREN\tNumber of children\t\n",
        "*   AMT_INCOME_TOTAL\tAnnual income\t\n",
        "*   NAME_INCOME_TYPE\tIncome category\t\n",
        "*   NAME_EDUCATION_TYPE\tEducation level\t\n",
        "*   NAME_FAMILY_STATUS\tMarital status\t\n",
        "*   NAME_HOUSING_TYPE\tWay of living\t\n",
        "*   DAYS_BIRTH\tBirthday\tCount backwards from current day (0), -1 means yesterday\n",
        "*   DAYS_EMPLOYED\tStart date of employment\tCount backwards from current day(0). If positive, it means the person currently unemployed.\n",
        "FLAG_MOBIL\tIs there a mobile phone\t\n",
        "*   FLAG_WORK_PHONE\tIs there a work phone\t\n",
        "*   FLAG_PHONE\tIs there a phone\t\n",
        "*   FLAG_EMAIL\tIs there an email\t\n",
        "*   OCCUPATION_TYPE\tOccupation\t\n",
        "*   CNT_FAM_MEMBERS\tFamily size\t\n",
        "\n",
        "**credit_record.csv**\n",
        "*   Feature name\tExplanation\tRemarks\n",
        "*   ID\tClient number\t\n",
        "*   MONTHS_BALANCE\tRecord month\tThe month of the extracted data is the starting point, backwards, 0 is the current month, -1 is the previous month, and so on\n",
        "*   STATUS\tStatus\t\n",
        "   *   0: 1-29 days past due\n",
        "   *   1: 30-59 days past due \n",
        "   *   2: 60-89 days overdue \n",
        "   *   3: 90-119 days overdue \n",
        "   *   4: 120-149 days overdue \n",
        "    *   5: Overdue or bad debts, write-offs for more than 150 days\n",
        "    *   C: paid off that month X: No loan for the month\n"
      ]
    },
    {
      "cell_type": "code",
      "execution_count": 1,
      "metadata": {
        "colab": {
          "base_uri": "https://localhost:8080/"
        },
        "id": "NNqHF188CqTO",
        "outputId": "2adc469d-eecc-4112-b386-aa455b85c7d6"
      },
      "outputs": [
        {
          "output_type": "stream",
          "name": "stdout",
          "text": [
            "Looking in indexes: https://pypi.org/simple, https://us-python.pkg.dev/colab-wheels/public/simple/\n",
            "Collecting pyspark\n",
            "  Downloading pyspark-3.4.0.tar.gz (310.8 MB)\n",
            "\u001b[2K     \u001b[90m━━━━━━━━━━━━━━━━━━━━━━━━━━━━━━━━━━━━━━━\u001b[0m \u001b[32m310.8/310.8 MB\u001b[0m \u001b[31m2.5 MB/s\u001b[0m eta \u001b[36m0:00:00\u001b[0m\n",
            "\u001b[?25h  Preparing metadata (setup.py) ... \u001b[?25l\u001b[?25hdone\n",
            "Requirement already satisfied: py4j==0.10.9.7 in /usr/local/lib/python3.10/dist-packages (from pyspark) (0.10.9.7)\n",
            "Building wheels for collected packages: pyspark\n",
            "  Building wheel for pyspark (setup.py) ... \u001b[?25l\u001b[?25hdone\n",
            "  Created wheel for pyspark: filename=pyspark-3.4.0-py2.py3-none-any.whl size=311317130 sha256=2f3c6bcb81ba05fabc6c4cc4bd752cc94ef5b703c51834ac858acf905f7ee37f\n",
            "  Stored in directory: /root/.cache/pip/wheels/7b/1b/4b/3363a1d04368e7ff0d408e57ff57966fcdf00583774e761327\n",
            "Successfully built pyspark\n",
            "Installing collected packages: pyspark\n",
            "Successfully installed pyspark-3.4.0\n"
          ]
        }
      ],
      "source": [
        "!pip install pyspark"
      ]
    },
    {
      "cell_type": "code",
      "source": [
        "from pyspark.sql import SparkSession\n",
        "import pyspark.sql.functions as F\n",
        "from pyspark.sql.functions import *\n",
        "\n",
        "spark = SparkSession \\\n",
        "    .builder \\\n",
        "    .appName(\"Sparkify\") \\\n",
        "    .getOrCreate()\n"
      ],
      "metadata": {
        "id": "AhFVcX92C6S3"
      },
      "execution_count": 2,
      "outputs": []
    },
    {
      "cell_type": "code",
      "source": [
        "df = spark.read.csv('application_record.csv', header = True)\n",
        "record = spark.read.csv('credit_record.csv', header = True)"
      ],
      "metadata": {
        "id": "RxLCUEnuD1-y"
      },
      "execution_count": 3,
      "outputs": []
    },
    {
      "cell_type": "code",
      "source": [
        "df.printSchema(), record.printSchema()"
      ],
      "metadata": {
        "colab": {
          "base_uri": "https://localhost:8080/"
        },
        "id": "ggtB1UwMD-8y",
        "outputId": "55328a51-1020-46ac-9745-870fcca9a7be"
      },
      "execution_count": 4,
      "outputs": [
        {
          "output_type": "stream",
          "name": "stdout",
          "text": [
            "root\n",
            " |-- ID: string (nullable = true)\n",
            " |-- CODE_GENDER: string (nullable = true)\n",
            " |-- FLAG_OWN_CAR: string (nullable = true)\n",
            " |-- FLAG_OWN_REALTY: string (nullable = true)\n",
            " |-- CNT_CHILDREN: string (nullable = true)\n",
            " |-- AMT_INCOME_TOTAL: string (nullable = true)\n",
            " |-- NAME_INCOME_TYPE: string (nullable = true)\n",
            " |-- NAME_EDUCATION_TYPE: string (nullable = true)\n",
            " |-- NAME_FAMILY_STATUS: string (nullable = true)\n",
            " |-- NAME_HOUSING_TYPE: string (nullable = true)\n",
            " |-- DAYS_BIRTH: string (nullable = true)\n",
            " |-- DAYS_EMPLOYED: string (nullable = true)\n",
            " |-- FLAG_MOBIL: string (nullable = true)\n",
            " |-- FLAG_WORK_PHONE: string (nullable = true)\n",
            " |-- FLAG_PHONE: string (nullable = true)\n",
            " |-- FLAG_EMAIL: string (nullable = true)\n",
            " |-- OCCUPATION_TYPE: string (nullable = true)\n",
            " |-- CNT_FAM_MEMBERS: string (nullable = true)\n",
            "\n",
            "root\n",
            " |-- ID: string (nullable = true)\n",
            " |-- MONTHS_BALANCE: string (nullable = true)\n",
            " |-- STATUS: string (nullable = true)\n",
            "\n"
          ]
        },
        {
          "output_type": "execute_result",
          "data": {
            "text/plain": [
              "(None, None)"
            ]
          },
          "metadata": {},
          "execution_count": 4
        }
      ]
    },
    {
      "cell_type": "code",
      "source": [
        "df.show(5)"
      ],
      "metadata": {
        "colab": {
          "base_uri": "https://localhost:8080/"
        },
        "id": "hodX8a_IxtrW",
        "outputId": "9a1100e3-1d4a-4fcb-b6c0-ec26b6e83fe1"
      },
      "execution_count": 5,
      "outputs": [
        {
          "output_type": "stream",
          "name": "stdout",
          "text": [
            "+-------+-----------+------------+---------------+------------+----------------+--------------------+--------------------+--------------------+-----------------+----------+-------------+----------+---------------+----------+----------+---------------+---------------+\n",
            "|     ID|CODE_GENDER|FLAG_OWN_CAR|FLAG_OWN_REALTY|CNT_CHILDREN|AMT_INCOME_TOTAL|    NAME_INCOME_TYPE| NAME_EDUCATION_TYPE|  NAME_FAMILY_STATUS|NAME_HOUSING_TYPE|DAYS_BIRTH|DAYS_EMPLOYED|FLAG_MOBIL|FLAG_WORK_PHONE|FLAG_PHONE|FLAG_EMAIL|OCCUPATION_TYPE|CNT_FAM_MEMBERS|\n",
            "+-------+-----------+------------+---------------+------------+----------------+--------------------+--------------------+--------------------+-----------------+----------+-------------+----------+---------------+----------+----------+---------------+---------------+\n",
            "|5008804|          M|           Y|              Y|           0|        427500.0|             Working|    Higher education|      Civil marriage| Rented apartment|    -12005|        -4542|         1|              1|         0|         0|           null|            2.0|\n",
            "|5008805|          M|           Y|              Y|           0|        427500.0|             Working|    Higher education|      Civil marriage| Rented apartment|    -12005|        -4542|         1|              1|         0|         0|           null|            2.0|\n",
            "|5008806|          M|           Y|              Y|           0|        112500.0|             Working|Secondary / secon...|             Married|House / apartment|    -21474|        -1134|         1|              0|         0|         0| Security staff|            2.0|\n",
            "|5008808|          F|           N|              Y|           0|        270000.0|Commercial associate|Secondary / secon...|Single / not married|House / apartment|    -19110|        -3051|         1|              0|         1|         1|    Sales staff|            1.0|\n",
            "|5008809|          F|           N|              Y|           0|        270000.0|Commercial associate|Secondary / secon...|Single / not married|House / apartment|    -19110|        -3051|         1|              0|         1|         1|    Sales staff|            1.0|\n",
            "+-------+-----------+------------+---------------+------------+----------------+--------------------+--------------------+--------------------+-----------------+----------+-------------+----------+---------------+----------+----------+---------------+---------------+\n",
            "only showing top 5 rows\n",
            "\n"
          ]
        }
      ]
    },
    {
      "cell_type": "code",
      "source": [
        "df.describe().show()"
      ],
      "metadata": {
        "colab": {
          "base_uri": "https://localhost:8080/"
        },
        "id": "jqnNuJc5zOcY",
        "outputId": "a403fb1f-bad3-48f2-bc8b-3c6754923518"
      },
      "execution_count": 6,
      "outputs": [
        {
          "output_type": "stream",
          "name": "stdout",
          "text": [
            "+-------+-----------------+-----------+------------+---------------+-------------------+------------------+--------------------+--------------------+------------------+-----------------+-------------------+-----------------+----------+------------------+-------------------+-------------------+--------------------+-----------------+\n",
            "|summary|               ID|CODE_GENDER|FLAG_OWN_CAR|FLAG_OWN_REALTY|       CNT_CHILDREN|  AMT_INCOME_TOTAL|    NAME_INCOME_TYPE| NAME_EDUCATION_TYPE|NAME_FAMILY_STATUS|NAME_HOUSING_TYPE|         DAYS_BIRTH|    DAYS_EMPLOYED|FLAG_MOBIL|   FLAG_WORK_PHONE|         FLAG_PHONE|         FLAG_EMAIL|     OCCUPATION_TYPE|  CNT_FAM_MEMBERS|\n",
            "+-------+-----------------+-----------+------------+---------------+-------------------+------------------+--------------------+--------------------+------------------+-----------------+-------------------+-----------------+----------+------------------+-------------------+-------------------+--------------------+-----------------+\n",
            "|  count|           438557|     438557|      438557|         438557|             438557|            438557|              438557|              438557|            438557|           438557|             438557|           438557|    438557|            438557|             438557|             438557|              304354|           438557|\n",
            "|   mean|6022176.269841776|       null|        null|           null|0.42739028222101116| 187524.2860095039|                null|                null|              null|             null|-15997.904648654565|60563.67532840657|       1.0|0.2061328402009317|0.28777103090362255|0.10820714297115312|                null|2.194465029631268|\n",
            "| stddev|571637.0232571006|       null|        null|           null|  0.724882213552146|110086.85306622987|                null|                null|              null|             null|  4185.030006794112|138767.7996466682|       0.0|0.4045274595500885|  0.452724344414615| 0.3106422012826674|                null|0.897207330056299|\n",
            "|    min|          5008804|          F|           N|              N|                  0|         1001826.0|Commercial associate|     Academic degree|    Civil marriage|  Co-op apartment|             -10000|             -100|         1|                 0|                  0|                  0|         Accountants|              1.0|\n",
            "|    max|          7999952|          M|           Y|              Y|                  9|           99900.0|             Working|Secondary / secon...|             Widow|     With parents|              -9999|           365243|         1|                 1|                  1|                  1|Waiters/barmen staff|              9.0|\n",
            "+-------+-----------------+-----------+------------+---------------+-------------------+------------------+--------------------+--------------------+------------------+-----------------+-------------------+-----------------+----------+------------------+-------------------+-------------------+--------------------+-----------------+\n",
            "\n"
          ]
        }
      ]
    },
    {
      "cell_type": "code",
      "source": [
        "from pyspark.sql.types import IntegerType\n",
        "record = record \\\n",
        "  .withColumn(\"MONTHS_BALANCE\" ,\n",
        "              record[\"MONTHS_BALANCE\"]\n",
        "              .cast(IntegerType()))"
      ],
      "metadata": {
        "id": "38u-Lw3NWPc0"
      },
      "execution_count": 7,
      "outputs": []
    },
    {
      "cell_type": "code",
      "source": [
        "new_record = record.groupBy('ID').agg(F.min('MONTHS_BALANCE')*-1) \n",
        "new_df = df.join(new_record,on=['ID'])\n",
        "new_df.sort('ID').show(5)"
      ],
      "metadata": {
        "colab": {
          "base_uri": "https://localhost:8080/"
        },
        "id": "YqHW5-cTJ1xD",
        "outputId": "2ba20579-d396-4791-f279-09b4151895f8"
      },
      "execution_count": 8,
      "outputs": [
        {
          "output_type": "stream",
          "name": "stdout",
          "text": [
            "+-------+-----------+------------+---------------+------------+----------------+--------------------+--------------------+--------------------+-----------------+----------+-------------+----------+---------------+----------+----------+---------------+---------------+--------------------------+\n",
            "|     ID|CODE_GENDER|FLAG_OWN_CAR|FLAG_OWN_REALTY|CNT_CHILDREN|AMT_INCOME_TOTAL|    NAME_INCOME_TYPE| NAME_EDUCATION_TYPE|  NAME_FAMILY_STATUS|NAME_HOUSING_TYPE|DAYS_BIRTH|DAYS_EMPLOYED|FLAG_MOBIL|FLAG_WORK_PHONE|FLAG_PHONE|FLAG_EMAIL|OCCUPATION_TYPE|CNT_FAM_MEMBERS|(min(MONTHS_BALANCE) * -1)|\n",
            "+-------+-----------+------------+---------------+------------+----------------+--------------------+--------------------+--------------------+-----------------+----------+-------------+----------+---------------+----------+----------+---------------+---------------+--------------------------+\n",
            "|5008804|          M|           Y|              Y|           0|        427500.0|             Working|    Higher education|      Civil marriage| Rented apartment|    -12005|        -4542|         1|              1|         0|         0|           null|            2.0|                        15|\n",
            "|5008805|          M|           Y|              Y|           0|        427500.0|             Working|    Higher education|      Civil marriage| Rented apartment|    -12005|        -4542|         1|              1|         0|         0|           null|            2.0|                        14|\n",
            "|5008806|          M|           Y|              Y|           0|        112500.0|             Working|Secondary / secon...|             Married|House / apartment|    -21474|        -1134|         1|              0|         0|         0| Security staff|            2.0|                        29|\n",
            "|5008808|          F|           N|              Y|           0|        270000.0|Commercial associate|Secondary / secon...|Single / not married|House / apartment|    -19110|        -3051|         1|              0|         1|         1|    Sales staff|            1.0|                         4|\n",
            "|5008809|          F|           N|              Y|           0|        270000.0|Commercial associate|Secondary / secon...|Single / not married|House / apartment|    -19110|        -3051|         1|              0|         1|         1|    Sales staff|            1.0|                        26|\n",
            "+-------+-----------+------------+---------------+------------+----------------+--------------------+--------------------+--------------------+-----------------+----------+-------------+----------+---------------+----------+----------+---------------+---------------+--------------------------+\n",
            "only showing top 5 rows\n",
            "\n"
          ]
        }
      ]
    },
    {
      "cell_type": "code",
      "source": [
        "record = record.withColumn('dep_value', F.when((F.col('STATUS') == '2') | (F.col('STATUS') == '3') | (F.col('STATUS') == '4') | (F.col('STATUS') == '5'), 'Yes') \n",
        "                          .otherwise(None)\n",
        "                           )"
      ],
      "metadata": {
        "id": "179iBx2xjxds"
      },
      "execution_count": 9,
      "outputs": []
    },
    {
      "cell_type": "code",
      "source": [
        "cpunt = record.groupby('ID', 'dep_value').count().sort('ID')"
      ],
      "metadata": {
        "id": "_gF3OLqf8nqZ"
      },
      "execution_count": 10,
      "outputs": []
    },
    {
      "cell_type": "code",
      "source": [
        "cpunt.describe().show()"
      ],
      "metadata": {
        "colab": {
          "base_uri": "https://localhost:8080/"
        },
        "id": "ZCEo-3BS8sez",
        "outputId": "1d818e83-5216-413a-bdba-be04c8ab87cb"
      },
      "execution_count": 11,
      "outputs": [
        {
          "output_type": "stream",
          "name": "stdout",
          "text": [
            "+-------+-----------------+---------+------------------+\n",
            "|summary|               ID|dep_value|             count|\n",
            "+-------+-----------------+---------+------------------+\n",
            "|  count|            46652|      667|             46652|\n",
            "|   mean|5070292.559140015|     null|22.476528337477493|\n",
            "| stddev|45428.67009852297|     null|15.515730399549481|\n",
            "|    min|          5001711|      Yes|                 1|\n",
            "|    max|          5150487|      Yes|                61|\n",
            "+-------+-----------------+---------+------------------+\n",
            "\n"
          ]
        }
      ]
    },
    {
      "cell_type": "code",
      "source": [
        "cpunt = cpunt.drop('count')\n",
        "new_df = new_df.join(cpunt,on=['ID'], how='inner')\n",
        "new_df = new_df.withColumn('target', F.when(F.col('dep_value') == 'Yes', 1).otherwise(0))"
      ],
      "metadata": {
        "id": "-nCWpOxDCXr4"
      },
      "execution_count": 12,
      "outputs": []
    },
    {
      "cell_type": "code",
      "source": [
        "new_df.show(1, vertical=True)"
      ],
      "metadata": {
        "colab": {
          "base_uri": "https://localhost:8080/"
        },
        "id": "IP9CMtIBDicE",
        "outputId": "79e978d1-6339-4e9a-df3a-8cb5f37c9a2d"
      },
      "execution_count": 13,
      "outputs": [
        {
          "output_type": "stream",
          "name": "stdout",
          "text": [
            "-RECORD 0------------------------------------------\n",
            " ID                         | 5009208              \n",
            " CODE_GENDER                | F                    \n",
            " FLAG_OWN_CAR               | N                    \n",
            " FLAG_OWN_REALTY            | N                    \n",
            " CNT_CHILDREN               | 0                    \n",
            " AMT_INCOME_TOTAL           | 292500.0             \n",
            " NAME_INCOME_TYPE           | State servant        \n",
            " NAME_EDUCATION_TYPE        | Secondary / secon... \n",
            " NAME_FAMILY_STATUS         | Married              \n",
            " NAME_HOUSING_TYPE          | House / apartment    \n",
            " DAYS_BIRTH                 | -20953               \n",
            " DAYS_EMPLOYED              | -8684                \n",
            " FLAG_MOBIL                 | 1                    \n",
            " FLAG_WORK_PHONE            | 1                    \n",
            " FLAG_PHONE                 | 1                    \n",
            " FLAG_EMAIL                 | 0                    \n",
            " OCCUPATION_TYPE            | Accountants          \n",
            " CNT_FAM_MEMBERS            | 2.0                  \n",
            " (min(MONTHS_BALANCE) * -1) | 41                   \n",
            " dep_value                  | null                 \n",
            " target                     | 0                    \n",
            "only showing top 1 row\n",
            "\n"
          ]
        }
      ]
    },
    {
      "cell_type": "code",
      "source": [
        "features = ['AMT_INCOME_TOTAL', 'CODE_GENDER', 'FLAG_OWN_CAR', 'FLAG_OWN_REALTY', 'CNT_CHILDREN']\t\n",
        "target = ['target']\n",
        "dataset = new_df[features + target]"
      ],
      "metadata": {
        "id": "oXua1n3bkwmk"
      },
      "execution_count": 14,
      "outputs": []
    },
    {
      "cell_type": "code",
      "source": [
        "dataset.describe().show()"
      ],
      "metadata": {
        "colab": {
          "base_uri": "https://localhost:8080/"
        },
        "id": "x4pglmOnmFzc",
        "outputId": "575e96e6-9f6f-4cdc-e071-e72306737b52"
      },
      "execution_count": 15,
      "outputs": [
        {
          "output_type": "stream",
          "name": "stdout",
          "text": [
            "+-------+------------------+-----------+------------+---------------+-------------------+-------------------+\n",
            "|summary|  AMT_INCOME_TOTAL|CODE_GENDER|FLAG_OWN_CAR|FLAG_OWN_REALTY|       CNT_CHILDREN|             target|\n",
            "+-------+------------------+-----------+------------+---------------+-------------------+-------------------+\n",
            "|  count|             37073|      37073|       37073|          37073|              37073|              37073|\n",
            "|   mean|186672.09548728185|       null|        null|           null|0.43028619210746366|0.01661586599411971|\n",
            "| stddev|101718.37229069635|       null|        null|           null| 0.7423555652578205|0.12782886899813548|\n",
            "|    min|          101250.0|          F|           N|              N|                  0|                  0|\n",
            "|    max|           99900.0|          M|           Y|              Y|                  7|                  1|\n",
            "+-------+------------------+-----------+------------+---------------+-------------------+-------------------+\n",
            "\n"
          ]
        }
      ]
    },
    {
      "cell_type": "code",
      "source": [
        "dataset.printSchema()"
      ],
      "metadata": {
        "colab": {
          "base_uri": "https://localhost:8080/"
        },
        "id": "Hu50y8xix1WY",
        "outputId": "0f599398-95ee-4125-957a-b74ea3e73c53"
      },
      "execution_count": 16,
      "outputs": [
        {
          "output_type": "stream",
          "name": "stdout",
          "text": [
            "root\n",
            " |-- AMT_INCOME_TOTAL: string (nullable = true)\n",
            " |-- CODE_GENDER: string (nullable = true)\n",
            " |-- FLAG_OWN_CAR: string (nullable = true)\n",
            " |-- FLAG_OWN_REALTY: string (nullable = true)\n",
            " |-- CNT_CHILDREN: string (nullable = true)\n",
            " |-- target: integer (nullable = false)\n",
            "\n"
          ]
        }
      ]
    },
    {
      "cell_type": "code",
      "source": [
        "dataset = dataset \\\n",
        "  .withColumn(\"AMT_INCOME_TOTAL\" ,\n",
        "              dataset[\"AMT_INCOME_TOTAL\"]\n",
        "              .cast(IntegerType()))\\\n",
        "  .withColumn(\"CNT_CHILDREN\" ,\n",
        "              dataset[\"CNT_CHILDREN\"]\n",
        "              .cast(IntegerType()))"
      ],
      "metadata": {
        "id": "d6Lkajwc8Quz"
      },
      "execution_count": 17,
      "outputs": []
    },
    {
      "cell_type": "code",
      "source": [
        "X_train, X_test = dataset.randomSplit([0.7, 0.3], seed=42)"
      ],
      "metadata": {
        "id": "xD13M6a1xjf4"
      },
      "execution_count": 18,
      "outputs": []
    },
    {
      "cell_type": "code",
      "source": [
        "from pyspark.ml.feature import StringIndexer, OneHotEncoder, VectorAssembler, MinMaxScaler\n",
        "\n",
        "indexer = StringIndexer(inputCols = [\"CODE_GENDER\",\"FLAG_OWN_CAR\", \"FLAG_OWN_REALTY\"], \n",
        "                        outputCols = [\"CODE_GENDER_Index\",\"FLAG_OWN_CAR_Index\", \"FLAG_OWN_REALTY_Index\"])\n",
        "\n",
        "ohe = OneHotEncoder(inputCols = [\"CODE_GENDER_Index\",\"FLAG_OWN_CAR_Index\", \"FLAG_OWN_REALTY_Index\"],\n",
        "                    outputCols = [\"CODE_GENDER_ohe\",\"FLAG_OWN_CAR_ohe\", \"FLAG_OWN_REALTY_ohe\"])\n",
        "\n",
        "vector_assembler_num = VectorAssembler(inputCols = [\"AMT_INCOME_TOTAL\", \"CNT_CHILDREN\"],\n",
        "                                       outputCol = \"features_num\")\n",
        "mms = MinMaxScaler(inputCol = \"features_num\",\n",
        "                    outputCol = \"features_num_mms\")\n",
        "\n",
        "vector_assembler = VectorAssembler(inputCols = [\"AMT_INCOME_TOTAL\", \"CODE_GENDER_ohe\",\"FLAG_OWN_CAR_ohe\", \"FLAG_OWN_REALTY_ohe\", \"CNT_CHILDREN\"], \n",
        "                                   outputCol = \"features\")"
      ],
      "metadata": {
        "id": "nSKE7oDeyuxu"
      },
      "execution_count": 19,
      "outputs": []
    },
    {
      "cell_type": "code",
      "source": [
        "from pyspark.ml.pipeline import Pipeline\n",
        "from pyspark.ml.classification import LogisticRegression\n",
        "\n",
        "lr = LogisticRegression(featuresCol='features', labelCol='target')\n",
        "\n",
        "imputer = [indexer, ohe, vector_assembler_num, mms, vector_assembler, lr]\n",
        "\n",
        "pipe = Pipeline(stages = imputer)"
      ],
      "metadata": {
        "id": "-Yk8SmSV-B1C"
      },
      "execution_count": 20,
      "outputs": []
    },
    {
      "cell_type": "code",
      "source": [
        "model = pipe.fit(X_train)"
      ],
      "metadata": {
        "id": "gnS3qzvx7rUA"
      },
      "execution_count": 21,
      "outputs": []
    },
    {
      "cell_type": "code",
      "source": [
        "train_pred = model.transform(X_train)\n",
        "test_pred = model.transform(X_test)"
      ],
      "metadata": {
        "id": "H6UokYF8_OVV"
      },
      "execution_count": 22,
      "outputs": []
    },
    {
      "cell_type": "code",
      "source": [
        "from pyspark.ml.evaluation import MulticlassClassificationEvaluator\n",
        "\n",
        "evaluatorMulti = MulticlassClassificationEvaluator(labelCol=\"target\", predictionCol=\"prediction\")\n",
        "train_acc = evaluatorMulti.evaluate(train_pred, {evaluatorMulti.metricName: \"accuracy\"})\n",
        "test_acc = evaluatorMulti.evaluate(test_pred, {evaluatorMulti.metricName: \"accuracy\"})\n",
        "print(f'Точность модели в тренировочной выборке равна {train_acc}, в тестовой выборке - {test_acc}')"
      ],
      "metadata": {
        "colab": {
          "base_uri": "https://localhost:8080/"
        },
        "id": "BFNbiJTY_6ED",
        "outputId": "07c65729-2e4c-444a-ab04-d64b804bce2f"
      },
      "execution_count": 23,
      "outputs": [
        {
          "output_type": "stream",
          "name": "stdout",
          "text": [
            "Точность модели в тренировочной выборке равна 0.9832097437276675, в тестовой выборке - 0.9837950389281188\n"
          ]
        }
      ]
    }
  ]
}
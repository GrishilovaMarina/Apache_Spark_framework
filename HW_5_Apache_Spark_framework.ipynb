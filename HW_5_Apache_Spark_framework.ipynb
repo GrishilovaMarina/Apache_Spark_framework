{
  "nbformat": 4,
  "nbformat_minor": 0,
  "metadata": {
    "colab": {
      "provenance": []
    },
    "kernelspec": {
      "name": "python3",
      "display_name": "Python 3"
    },
    "language_info": {
      "name": "python"
    }
  },
  "cells": [
    {
      "cell_type": "code",
      "execution_count": 1,
      "metadata": {
        "colab": {
          "base_uri": "https://localhost:8080/"
        },
        "id": "GqvHOLv3u80c",
        "outputId": "c1cb4d98-9f38-4d78-8121-b53c2949e383"
      },
      "outputs": [
        {
          "output_type": "stream",
          "name": "stdout",
          "text": [
            "Looking in indexes: https://pypi.org/simple, https://us-python.pkg.dev/colab-wheels/public/simple/\n",
            "Collecting pyspark\n",
            "  Downloading pyspark-3.4.0.tar.gz (310.8 MB)\n",
            "\u001b[2K     \u001b[90m━━━━━━━━━━━━━━━━━━━━━━━━━━━━━━━━━━━━━━━\u001b[0m \u001b[32m310.8/310.8 MB\u001b[0m \u001b[31m3.1 MB/s\u001b[0m eta \u001b[36m0:00:00\u001b[0m\n",
            "\u001b[?25h  Preparing metadata (setup.py) ... \u001b[?25l\u001b[?25hdone\n",
            "Requirement already satisfied: py4j==0.10.9.7 in /usr/local/lib/python3.10/dist-packages (from pyspark) (0.10.9.7)\n",
            "Building wheels for collected packages: pyspark\n",
            "  Building wheel for pyspark (setup.py) ... \u001b[?25l\u001b[?25hdone\n",
            "  Created wheel for pyspark: filename=pyspark-3.4.0-py2.py3-none-any.whl size=311317130 sha256=a7f0d7c928127f341fc5eaa1e2b3f4aa0ed65dd8a9f51edf8c0af0c9aa00ffc9\n",
            "  Stored in directory: /root/.cache/pip/wheels/7b/1b/4b/3363a1d04368e7ff0d408e57ff57966fcdf00583774e761327\n",
            "Successfully built pyspark\n",
            "Installing collected packages: pyspark\n",
            "Successfully installed pyspark-3.4.0\n"
          ]
        }
      ],
      "source": [
        "!pip install pyspark"
      ]
    },
    {
      "cell_type": "code",
      "source": [
        "from pyspark.sql import SparkSession\n",
        "from pyspark.sql import functions as F\n",
        "\n",
        "spark = SparkSession.builder.master('local[4]').appName('joins_hw').getOrCreate()"
      ],
      "metadata": {
        "id": "JKJsj7bhvINV"
      },
      "execution_count": 2,
      "outputs": []
    },
    {
      "cell_type": "code",
      "source": [
        "# Создаём датасет для примеров\n",
        "dataset_1 = [\n",
        "  {\n",
        "    'key_1' : 'abc',\n",
        "    'value_1' : 10,\n",
        "    'value_2' : 20\n",
        "  },\n",
        "  {\n",
        "    'key_1' : 'def',\n",
        "    'value_1' : 100,\n",
        "    'value_2' : 300\n",
        "  }\n",
        "]\n",
        "\n",
        "dataset_2 = [\n",
        "  {\n",
        "    'key_2' : 'abc',\n",
        "    'value_1' : 5.5,\n",
        "    'value_2' : 2.2\n",
        "  },\n",
        "  {\n",
        "    'key_2' : 'xyz',\n",
        "    'value_1' : 10.1,\n",
        "    'value_2' : 13.5\n",
        "  }\n",
        "]\n",
        "\n",
        "df1 = spark.createDataFrame(dataset_1)\n",
        "print('df1')\n",
        "df1.show()\n",
        "\n",
        "df2 = spark.createDataFrame(dataset_2)\n",
        "print('df2')\n",
        "df2.show()"
      ],
      "metadata": {
        "colab": {
          "base_uri": "https://localhost:8080/"
        },
        "id": "Ts9lo5Uvvdux",
        "outputId": "b0ce19ae-06e5-4c27-d75e-8970c43ba645"
      },
      "execution_count": 3,
      "outputs": [
        {
          "output_type": "stream",
          "name": "stdout",
          "text": [
            "df1\n",
            "+-----+-------+-------+\n",
            "|key_1|value_1|value_2|\n",
            "+-----+-------+-------+\n",
            "|  abc|     10|     20|\n",
            "|  def|    100|    300|\n",
            "+-----+-------+-------+\n",
            "\n",
            "df2\n",
            "+-----+-------+-------+\n",
            "|key_2|value_1|value_2|\n",
            "+-----+-------+-------+\n",
            "|  abc|    5.5|    2.2|\n",
            "|  xyz|   10.1|   13.5|\n",
            "+-----+-------+-------+\n",
            "\n"
          ]
        }
      ]
    },
    {
      "cell_type": "code",
      "source": [
        "# Создайте джойн, чтобы получить следующую таблицу\n",
        "# +---+-------+-------+\n",
        "# |key|value_1|value_2|\n",
        "# +---+-------+-------+\n",
        "# |abc|     10|     20|\n",
        "# +---+-------+-------+"
      ],
      "metadata": {
        "id": "zPlALzD9wKgr"
      },
      "execution_count": 4,
      "outputs": []
    },
    {
      "cell_type": "code",
      "source": [
        "###Left Semi Join возвращает все записи из левого датафрейма, если соответствующее значение существует в правом датафрейме\n",
        "###В соединении LEFT SEMI мы не увидим больше строк, чем ожидалось, даже если существует сопоставление один ко многим. Это похоже на состояние «IN».\n",
        "###Выходной фрейм данных будет иметь столбцы только из левого датафрейма.\n",
        "\n",
        "df1.join(df2, df1.key_1 == df2.key_2, 'left_semi').show()"
      ],
      "metadata": {
        "colab": {
          "base_uri": "https://localhost:8080/"
        },
        "id": "XV3sbEW4v92N",
        "outputId": "468b7a0f-3696-4eaf-9368-3e5585591430"
      },
      "execution_count": 5,
      "outputs": [
        {
          "output_type": "stream",
          "name": "stdout",
          "text": [
            "+-----+-------+-------+\n",
            "|key_1|value_1|value_2|\n",
            "+-----+-------+-------+\n",
            "|  abc|     10|     20|\n",
            "+-----+-------+-------+\n",
            "\n"
          ]
        }
      ]
    },
    {
      "cell_type": "code",
      "source": [
        "# Создайте джойн, чтобы получить следующую таблицу\n",
        "# +---+-------+-------+\n",
        "# |key|value_1|value_2|\n",
        "# +---+-------+-------+\n",
        "# |def|    100|    300|\n",
        "# +---+-------+-------+"
      ],
      "metadata": {
        "id": "B5cNgeAlwVuN"
      },
      "execution_count": 6,
      "outputs": []
    },
    {
      "cell_type": "code",
      "source": [
        "###LEFT Anti Join возвращает все записи из левого датафрейма, которых нет в правом датафрейме. \n",
        "###Это противоположно соединению LEFT SEMI, которое возвращает только совпадающие записи. Это похоже на состояние «NOT IN». \n",
        "###Вывод будет иметь вывод только из левого датафрейма.\n",
        "\n",
        "df1.join(df2, df1.key_1 == df2.key_2, 'left_anti').show()"
      ],
      "metadata": {
        "colab": {
          "base_uri": "https://localhost:8080/"
        },
        "id": "pkYSbY6DwMnh",
        "outputId": "034081c9-5eaa-4172-84af-12d02884da38"
      },
      "execution_count": 7,
      "outputs": [
        {
          "output_type": "stream",
          "name": "stdout",
          "text": [
            "+-----+-------+-------+\n",
            "|key_1|value_1|value_2|\n",
            "+-----+-------+-------+\n",
            "|  def|    100|    300|\n",
            "+-----+-------+-------+\n",
            "\n"
          ]
        }
      ]
    },
    {
      "cell_type": "code",
      "source": [
        "# Создайте Inner джойн с условиями ---hidden---, для df1 и df2, соответсвенно\n",
        "# В  итоге получится таблица\n",
        "# +---+-------+-------+---+-------+-------+\n",
        "# |key|value_1|value_2|key|value_1|value_2|\n",
        "# +---+-------+-------+---+-------+-------+\n",
        "# |abc|     10|     20|abc|    5.5|    2.2|\n",
        "# |abc|     10|     20|xyz|   10.1|   13.5|\n",
        "# |def|    100|    300|abc|    5.5|    2.2|\n",
        "# |def|    100|    300|xyz|   10.1|   13.5|\n",
        "# +---+-------+-------+---+-------+-------+"
      ],
      "metadata": {
        "id": "Y9WOD901wdLq"
      },
      "execution_count": 8,
      "outputs": []
    },
    {
      "cell_type": "code",
      "source": [
        "###Inner join является соединением по умолчанию и выбирает строки, имеющие совпадающие (либо несовпадающие в зависимости от условия) значения в обоих отношениях.\n",
        "\n",
        "df1.join(df2, df1.value_1 != df2.value_2).show()"
      ],
      "metadata": {
        "colab": {
          "base_uri": "https://localhost:8080/"
        },
        "id": "sp5DZcR7wXRK",
        "outputId": "23a972d8-eca0-413f-ccfe-c859839e2a25"
      },
      "execution_count": 9,
      "outputs": [
        {
          "output_type": "stream",
          "name": "stdout",
          "text": [
            "+-----+-------+-------+-----+-------+-------+\n",
            "|key_1|value_1|value_2|key_2|value_1|value_2|\n",
            "+-----+-------+-------+-----+-------+-------+\n",
            "|  abc|     10|     20|  abc|    5.5|    2.2|\n",
            "|  abc|     10|     20|  xyz|   10.1|   13.5|\n",
            "|  def|    100|    300|  abc|    5.5|    2.2|\n",
            "|  def|    100|    300|  xyz|   10.1|   13.5|\n",
            "+-----+-------+-------+-----+-------+-------+\n",
            "\n"
          ]
        }
      ]
    }
  ]
}